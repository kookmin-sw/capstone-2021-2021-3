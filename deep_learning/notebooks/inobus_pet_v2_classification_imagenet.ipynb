{
  "nbformat": 4,
  "nbformat_minor": 0,
  "metadata": {
    "colab": {
      "name": "inobus_pet_v2_classification_imagenet.ipynb",
      "provenance": []
    },
    "kernelspec": {
      "name": "python3",
      "display_name": "Python 3"
    },
    "accelerator": "GPU"
  },
  "cells": [
    {
      "cell_type": "code",
      "metadata": {
        "id": "Th1dwYBOocQC"
      },
      "source": [
        "from google.colab import auth\n",
        "auth.authenticate_user()"
      ],
      "execution_count": 1,
      "outputs": []
    },
    {
      "cell_type": "code",
      "metadata": {
        "id": "PwZeId9PoiUY",
        "colab": {
          "base_uri": "https://localhost:8080/"
        },
        "outputId": "955ac224-eeca-4356-a452-ff6505a48798"
      },
      "source": [
        "!pip install -q tfds-nightly\n",
        "import tensorflow_datasets as tfds\n",
        "ds, info = tfds.load('inobus_pet_v2', with_info=True, data_dir='gs://pet_dataset/inobus_pet_v2')"
      ],
      "execution_count": 2,
      "outputs": [
        {
          "output_type": "stream",
          "text": [
            "\u001b[K     |████████████████████████████████| 3.8MB 5.7MB/s \n",
            "\u001b[?25h"
          ],
          "name": "stdout"
        }
      ]
    },
    {
      "cell_type": "code",
      "metadata": {
        "id": "RUv5smYRz3v1"
      },
      "source": [
        "train_ds, test_ds = ds['train'], ds['test']"
      ],
      "execution_count": 3,
      "outputs": []
    },
    {
      "cell_type": "code",
      "metadata": {
        "id": "4cokllXy-hsN"
      },
      "source": [
        "import tensorflow as tf\n",
        "\n",
        "@tf.function\n",
        "def load_image_label(datapoint):\n",
        "  img = datapoint['image']\n",
        "  label = datapoint['label']\n",
        "\n",
        "  return img, label "
      ],
      "execution_count": 4,
      "outputs": []
    },
    {
      "cell_type": "code",
      "metadata": {
        "id": "iCHl0bQy-iwH"
      },
      "source": [
        "train_ds = train_ds.map(load_image_label)\n",
        "test_ds = test_ds.map(load_image_label)"
      ],
      "execution_count": 5,
      "outputs": []
    },
    {
      "cell_type": "code",
      "metadata": {
        "id": "V_6ZoXBXrg-G"
      },
      "source": [
        "batch_size = 32\n",
        "buffer_size = 1000\n",
        "\n",
        "train_ds = train_ds.cache().shuffle(buffer_size).batch(batch_size)\n",
        "train_ds = train_ds.prefetch(buffer_size=tf.data.AUTOTUNE)\n",
        "test_ds = test_ds.cache().batch(batch_size)\n",
        "test_ds = test_ds.prefetch(buffer_size=tf.data.AUTOTUNE)"
      ],
      "execution_count": 6,
      "outputs": []
    },
    {
      "cell_type": "code",
      "metadata": {
        "id": "GaWcbudI_eRy",
        "colab": {
          "base_uri": "https://localhost:8080/"
        },
        "outputId": "b04d361d-fcb6-4f5c-aead-689b34357ef5"
      },
      "source": [
        "img_shape = (224, 224, 3) \n",
        "mobilenet = tf.keras.applications.MobileNet(\n",
        "    input_shape=img_shape,\n",
        "    include_top=False,\n",
        "    weights='imagenet'\n",
        ")"
      ],
      "execution_count": 7,
      "outputs": [
        {
          "output_type": "stream",
          "text": [
            "Downloading data from https://storage.googleapis.com/tensorflow/keras-applications/mobilenet/mobilenet_1_0_224_tf_no_top.h5\n",
            "17227776/17225924 [==============================] - 0s 0us/step\n"
          ],
          "name": "stdout"
        }
      ]
    },
    {
      "cell_type": "code",
      "metadata": {
        "id": "Y0776SuIAUno"
      },
      "source": [
        "global_average_layer = tf.keras.layers.GlobalAveragePooling2D()"
      ],
      "execution_count": 11,
      "outputs": []
    },
    {
      "cell_type": "code",
      "metadata": {
        "id": "RgtFb1UBAZOr"
      },
      "source": [
        "prediction_layer = tf.keras.layers.Dense(1, activation='sigmoid')"
      ],
      "execution_count": 14,
      "outputs": []
    },
    {
      "cell_type": "code",
      "metadata": {
        "id": "j8dTvpnLCaY0"
      },
      "source": [
        "def get_model():\n",
        "  inputs = tf.keras.Input(shape=(224, 224, 3))\n",
        "  x = mobilenet(inputs)\n",
        "  x = global_average_layer(x)\n",
        "  outputs = prediction_layer(x)\n",
        "  \n",
        "  return tf.keras.Model(inputs, outputs)"
      ],
      "execution_count": 15,
      "outputs": []
    },
    {
      "cell_type": "code",
      "metadata": {
        "id": "uadRGsx2Nmb4"
      },
      "source": [
        "model = get_model()\n",
        "lr = 3e-4\n",
        "model.compile(optimizer=tf.keras.optimizers.Adam(lr=lr),\n",
        "              loss=tf.keras.losses.BinaryCrossentropy(from_logits=False),\n",
        "              metrics=['accuracy', tf.keras.metrics.Precision(name='precision'), tf.keras.metrics.Recall(name='recall')])"
      ],
      "execution_count": 16,
      "outputs": []
    },
    {
      "cell_type": "code",
      "metadata": {
        "colab": {
          "base_uri": "https://localhost:8080/"
        },
        "id": "3qtC0AHrOLEE",
        "outputId": "57e7c18a-09de-4b5e-8002-b7fad6841cff"
      },
      "source": [
        "len(model.trainable_variables)"
      ],
      "execution_count": 17,
      "outputs": [
        {
          "output_type": "execute_result",
          "data": {
            "text/plain": [
              "83"
            ]
          },
          "metadata": {
            "tags": []
          },
          "execution_count": 17
        }
      ]
    },
    {
      "cell_type": "code",
      "metadata": {
        "colab": {
          "base_uri": "https://localhost:8080/"
        },
        "id": "M653rqd6OPV8",
        "outputId": "6a65b3ac-e27f-418c-8a44-50333c186baf"
      },
      "source": [
        "init_loss, init_acc, init_prec, init_recall = model.evaluate(test_ds)"
      ],
      "execution_count": 18,
      "outputs": [
        {
          "output_type": "stream",
          "text": [
            "4/4 [==============================] - 18s 45ms/step - loss: 0.7409 - accuracy: 0.4850 - precision: 0.7352 - recall: 0.1945\n"
          ],
          "name": "stdout"
        }
      ]
    },
    {
      "cell_type": "code",
      "metadata": {
        "colab": {
          "base_uri": "https://localhost:8080/"
        },
        "id": "AYEayLjTOdCN",
        "outputId": "dc25d727-5e87-4f16-d741-3a9d286539be"
      },
      "source": [
        "print(f\"initial loss: {init_loss}\")\n",
        "print(f\"initial accuracy: {init_acc}\")\n",
        "print(f\"initial precision: {init_prec}\")\n",
        "print(f\"initial recall: {init_recall}\")"
      ],
      "execution_count": 19,
      "outputs": [
        {
          "output_type": "stream",
          "text": [
            "initial loss: 0.7544620037078857\n",
            "initial accuracy: 0.46000000834465027\n",
            "initial precision: 0.7142857313156128\n",
            "initial recall: 0.1666666716337204\n"
          ],
          "name": "stdout"
        }
      ]
    },
    {
      "cell_type": "code",
      "metadata": {
        "colab": {
          "base_uri": "https://localhost:8080/"
        },
        "id": "nIxpP1iLQFJ5",
        "outputId": "ce06e716-525e-493c-d74f-462d53b9a08d"
      },
      "source": [
        "epochs = 30\n",
        "history = model.fit(train_ds,\n",
        "                    epochs=epochs,\n",
        "                    validation_data=test_ds)"
      ],
      "execution_count": 20,
      "outputs": [
        {
          "output_type": "stream",
          "text": [
            "Epoch 1/30\n",
            "30/30 [==============================] - 8s 122ms/step - loss: 0.1416 - accuracy: 0.9486 - precision: 0.9645 - recall: 0.9709 - val_loss: 2.7049 - val_accuracy: 0.4000 - val_precision: 0.0000e+00 - val_recall: 0.0000e+00\n",
            "Epoch 2/30\n",
            "30/30 [==============================] - 3s 112ms/step - loss: 0.0057 - accuracy: 1.0000 - precision: 1.0000 - recall: 1.0000 - val_loss: 1.6768 - val_accuracy: 0.4100 - val_precision: 1.0000 - val_recall: 0.0167\n",
            "Epoch 3/30\n",
            "30/30 [==============================] - 3s 111ms/step - loss: 0.0015 - accuracy: 1.0000 - precision: 1.0000 - recall: 1.0000 - val_loss: 1.2210 - val_accuracy: 0.5000 - val_precision: 1.0000 - val_recall: 0.1667\n",
            "Epoch 4/30\n",
            "30/30 [==============================] - 3s 111ms/step - loss: 7.8535e-04 - accuracy: 1.0000 - precision: 1.0000 - recall: 1.0000 - val_loss: 0.4381 - val_accuracy: 0.7800 - val_precision: 1.0000 - val_recall: 0.6333\n",
            "Epoch 5/30\n",
            "30/30 [==============================] - 3s 111ms/step - loss: 6.5164e-04 - accuracy: 1.0000 - precision: 1.0000 - recall: 1.0000 - val_loss: 0.1577 - val_accuracy: 0.9200 - val_precision: 1.0000 - val_recall: 0.8667\n",
            "Epoch 6/30\n",
            "30/30 [==============================] - 3s 111ms/step - loss: 6.5804e-04 - accuracy: 1.0000 - precision: 1.0000 - recall: 1.0000 - val_loss: 0.0881 - val_accuracy: 0.9800 - val_precision: 1.0000 - val_recall: 0.9667\n",
            "Epoch 7/30\n",
            "30/30 [==============================] - 3s 111ms/step - loss: 4.0593e-04 - accuracy: 1.0000 - precision: 1.0000 - recall: 1.0000 - val_loss: 0.0521 - val_accuracy: 1.0000 - val_precision: 1.0000 - val_recall: 1.0000\n",
            "Epoch 8/30\n",
            "30/30 [==============================] - 3s 111ms/step - loss: 3.7042e-04 - accuracy: 1.0000 - precision: 1.0000 - recall: 1.0000 - val_loss: 0.0279 - val_accuracy: 1.0000 - val_precision: 1.0000 - val_recall: 1.0000\n",
            "Epoch 9/30\n",
            "30/30 [==============================] - 3s 111ms/step - loss: 2.6185e-04 - accuracy: 1.0000 - precision: 1.0000 - recall: 1.0000 - val_loss: 0.0193 - val_accuracy: 1.0000 - val_precision: 1.0000 - val_recall: 1.0000\n",
            "Epoch 10/30\n",
            "30/30 [==============================] - 3s 111ms/step - loss: 3.6744e-04 - accuracy: 1.0000 - precision: 1.0000 - recall: 1.0000 - val_loss: 0.0200 - val_accuracy: 1.0000 - val_precision: 1.0000 - val_recall: 1.0000\n",
            "Epoch 11/30\n",
            "30/30 [==============================] - 3s 111ms/step - loss: 2.3656e-04 - accuracy: 1.0000 - precision: 1.0000 - recall: 1.0000 - val_loss: 0.0162 - val_accuracy: 1.0000 - val_precision: 1.0000 - val_recall: 1.0000\n",
            "Epoch 12/30\n",
            "30/30 [==============================] - 3s 110ms/step - loss: 9.6719e-05 - accuracy: 1.0000 - precision: 1.0000 - recall: 1.0000 - val_loss: 0.0169 - val_accuracy: 1.0000 - val_precision: 1.0000 - val_recall: 1.0000\n",
            "Epoch 13/30\n",
            "30/30 [==============================] - 3s 111ms/step - loss: 1.9265e-04 - accuracy: 1.0000 - precision: 1.0000 - recall: 1.0000 - val_loss: 0.0160 - val_accuracy: 1.0000 - val_precision: 1.0000 - val_recall: 1.0000\n",
            "Epoch 14/30\n",
            "30/30 [==============================] - 3s 111ms/step - loss: 9.8000e-05 - accuracy: 1.0000 - precision: 1.0000 - recall: 1.0000 - val_loss: 0.0171 - val_accuracy: 1.0000 - val_precision: 1.0000 - val_recall: 1.0000\n",
            "Epoch 15/30\n",
            "30/30 [==============================] - 3s 111ms/step - loss: 9.1870e-05 - accuracy: 1.0000 - precision: 1.0000 - recall: 1.0000 - val_loss: 0.0150 - val_accuracy: 1.0000 - val_precision: 1.0000 - val_recall: 1.0000\n",
            "Epoch 16/30\n",
            "30/30 [==============================] - 3s 111ms/step - loss: 8.8454e-05 - accuracy: 1.0000 - precision: 1.0000 - recall: 1.0000 - val_loss: 0.0157 - val_accuracy: 1.0000 - val_precision: 1.0000 - val_recall: 1.0000\n",
            "Epoch 17/30\n",
            "30/30 [==============================] - 3s 110ms/step - loss: 2.8722e-04 - accuracy: 1.0000 - precision: 1.0000 - recall: 1.0000 - val_loss: 0.0091 - val_accuracy: 1.0000 - val_precision: 1.0000 - val_recall: 1.0000\n",
            "Epoch 18/30\n",
            "30/30 [==============================] - 3s 110ms/step - loss: 8.4166e-05 - accuracy: 1.0000 - precision: 1.0000 - recall: 1.0000 - val_loss: 0.0065 - val_accuracy: 1.0000 - val_precision: 1.0000 - val_recall: 1.0000\n",
            "Epoch 19/30\n",
            "30/30 [==============================] - 3s 110ms/step - loss: 9.6441e-05 - accuracy: 1.0000 - precision: 1.0000 - recall: 1.0000 - val_loss: 0.0087 - val_accuracy: 1.0000 - val_precision: 1.0000 - val_recall: 1.0000\n",
            "Epoch 20/30\n",
            "30/30 [==============================] - 3s 111ms/step - loss: 6.8768e-05 - accuracy: 1.0000 - precision: 1.0000 - recall: 1.0000 - val_loss: 0.0100 - val_accuracy: 1.0000 - val_precision: 1.0000 - val_recall: 1.0000\n",
            "Epoch 21/30\n",
            "30/30 [==============================] - 3s 111ms/step - loss: 1.2998e-04 - accuracy: 1.0000 - precision: 1.0000 - recall: 1.0000 - val_loss: 0.0100 - val_accuracy: 1.0000 - val_precision: 1.0000 - val_recall: 1.0000\n",
            "Epoch 22/30\n",
            "30/30 [==============================] - 3s 113ms/step - loss: 5.1574e-05 - accuracy: 1.0000 - precision: 1.0000 - recall: 1.0000 - val_loss: 0.0082 - val_accuracy: 1.0000 - val_precision: 1.0000 - val_recall: 1.0000\n",
            "Epoch 23/30\n",
            "30/30 [==============================] - 3s 111ms/step - loss: 5.3608e-05 - accuracy: 1.0000 - precision: 1.0000 - recall: 1.0000 - val_loss: 0.0094 - val_accuracy: 1.0000 - val_precision: 1.0000 - val_recall: 1.0000\n",
            "Epoch 24/30\n",
            "30/30 [==============================] - 3s 111ms/step - loss: 3.8884e-05 - accuracy: 1.0000 - precision: 1.0000 - recall: 1.0000 - val_loss: 0.0105 - val_accuracy: 1.0000 - val_precision: 1.0000 - val_recall: 1.0000\n",
            "Epoch 25/30\n",
            "30/30 [==============================] - 3s 113ms/step - loss: 1.7493e-04 - accuracy: 1.0000 - precision: 1.0000 - recall: 1.0000 - val_loss: 0.0106 - val_accuracy: 1.0000 - val_precision: 1.0000 - val_recall: 1.0000\n",
            "Epoch 26/30\n",
            "30/30 [==============================] - 3s 112ms/step - loss: 1.3133e-04 - accuracy: 1.0000 - precision: 1.0000 - recall: 1.0000 - val_loss: 0.0160 - val_accuracy: 1.0000 - val_precision: 1.0000 - val_recall: 1.0000\n",
            "Epoch 27/30\n",
            "30/30 [==============================] - 3s 111ms/step - loss: 6.1264e-05 - accuracy: 1.0000 - precision: 1.0000 - recall: 1.0000 - val_loss: 0.0195 - val_accuracy: 1.0000 - val_precision: 1.0000 - val_recall: 1.0000\n",
            "Epoch 28/30\n",
            "30/30 [==============================] - 3s 112ms/step - loss: 6.1634e-05 - accuracy: 1.0000 - precision: 1.0000 - recall: 1.0000 - val_loss: 0.0184 - val_accuracy: 1.0000 - val_precision: 1.0000 - val_recall: 1.0000\n",
            "Epoch 29/30\n",
            "30/30 [==============================] - 3s 112ms/step - loss: 5.1346e-05 - accuracy: 1.0000 - precision: 1.0000 - recall: 1.0000 - val_loss: 0.0142 - val_accuracy: 1.0000 - val_precision: 1.0000 - val_recall: 1.0000\n",
            "Epoch 30/30\n",
            "30/30 [==============================] - 3s 111ms/step - loss: 2.4904e-05 - accuracy: 1.0000 - precision: 1.0000 - recall: 1.0000 - val_loss: 0.0139 - val_accuracy: 1.0000 - val_precision: 1.0000 - val_recall: 1.0000\n"
          ],
          "name": "stdout"
        }
      ]
    },
    {
      "cell_type": "code",
      "metadata": {
        "colab": {
          "base_uri": "https://localhost:8080/",
          "height": 513
        },
        "id": "fWaGbRInQhY7",
        "outputId": "6e53ce06-7588-4fca-a42c-e73f12d9d91a"
      },
      "source": [
        "import matplotlib.pyplot as plt\n",
        "\n",
        "acc = history.history['accuracy']\n",
        "val_acc = history.history['val_accuracy']\n",
        "\n",
        "loss = history.history['loss']\n",
        "val_loss = history.history['val_loss']\n",
        "\n",
        "plt.figure(figsize=(8, 8))\n",
        "plt.subplot(2, 1, 1)\n",
        "plt.plot(acc, label='Training Accuracy')\n",
        "plt.plot(val_acc, label='Validation Accuracy')\n",
        "plt.legend(loc='lower right')\n",
        "plt.ylabel('Accuracy')\n",
        "plt.title('Training and Validation Accuracy')\n",
        "\n",
        "plt.subplot(2, 1, 2)\n",
        "plt.plot(loss, label='Training Loss')\n",
        "plt.plot(val_loss, label='Validation Loss')\n",
        "plt.legend(loc='upper right')\n",
        "plt.ylabel('Cross Entropy')\n",
        "plt.title('Training and Validation Loss')\n",
        "plt.xlabel('epoch')\n",
        "plt.show()"
      ],
      "execution_count": 21,
      "outputs": [
        {
          "output_type": "display_data",
          "data": {
            "image/png": "[encoded data removed]",
            "text/plain": [
              "<Figure size 576x576 with 2 Axes>"
            ]
          },
          "metadata": {
            "tags": [],
            "needs_background": "light"
          }
        }
      ]
    },
    {
      "cell_type": "code",
      "metadata": {
        "colab": {
          "base_uri": "https://localhost:8080/",
          "height": 513
        },
        "id": "s8q32wyfQlb8",
        "outputId": "0ab6bf29-1e11-4561-ab75-c094e00ce8cf"
      },
      "source": [
        "precision = history.history['precision']\n",
        "val_precision = history.history['val_precision']\n",
        "\n",
        "recall = history.history['recall']\n",
        "val_recall = history.history['val_recall']\n",
        "\n",
        "plt.figure(figsize=(8, 8))\n",
        "plt.subplot(2, 1, 1)\n",
        "plt.plot(precision, label='Training Precision')\n",
        "plt.plot(val_precision, label='Validation Precision')\n",
        "plt.legend(loc='lower right')\n",
        "plt.ylabel('Precision')\n",
        "plt.title('Training and Validation Precision')\n",
        "\n",
        "plt.subplot(2, 1, 2)\n",
        "plt.plot(recall, label='Training Recall')\n",
        "plt.plot(val_recall, label='Validation Recall')\n",
        "plt.legend(loc='upper right')\n",
        "plt.ylabel('Recall')\n",
        "plt.title('Training and Validation Recall')\n",
        "plt.xlabel('epoch')\n",
        "plt.show()"
      ],
      "execution_count": 22,
      "outputs": [
        {
          "output_type": "display_data",
          "data": {
            "image/png": "[encoded data removed]",
            "text/plain": [
              "<Figure size 576x576 with 2 Axes>"
            ]
          },
          "metadata": {
            "tags": [],
            "needs_background": "light"
          }
        }
      ]
    },
    {
      "cell_type": "code",
      "metadata": {
        "id": "GlzX0__TYUdl",
        "colab": {
          "base_uri": "https://localhost:8080/"
        },
        "outputId": "397f2f63-d5b3-4919-c0af-4887fc8d5bd0"
      },
      "source": [
        "pred = model.predict(test_ds.take(1))\n",
        "print(pred)"
      ],
      "execution_count": 48,
      "outputs": [
        {
          "output_type": "stream",
          "text": [
            "[[9.9986959e-01]\n",
            " [9.9956757e-01]\n",
            " [7.0606186e-03]\n",
            " [7.0593722e-02]\n",
            " [9.9984360e-01]\n",
            " [9.4656851e-03]\n",
            " [9.9996233e-01]\n",
            " [9.9998534e-01]\n",
            " [9.9992752e-01]\n",
            " [9.9440032e-01]\n",
            " [9.9999714e-01]\n",
            " [1.8788136e-05]\n",
            " [9.9952590e-01]\n",
            " [6.5459404e-03]\n",
            " [3.9398871e-04]\n",
            " [9.9996638e-01]\n",
            " [1.5438252e-04]\n",
            " [2.0550057e-02]\n",
            " [9.9992299e-01]\n",
            " [9.9991918e-01]\n",
            " [9.9998224e-01]\n",
            " [9.9753052e-01]\n",
            " [6.0452700e-02]\n",
            " [9.9998784e-01]\n",
            " [3.9513418e-03]\n",
            " [9.9994290e-01]\n",
            " [6.5614483e-03]\n",
            " [4.0608556e-05]\n",
            " [3.3136865e-04]\n",
            " [7.2554959e-04]\n",
            " [9.9997735e-01]\n",
            " [9.4646883e-01]]\n"
          ],
          "name": "stdout"
        }
      ]
    },
    {
      "cell_type": "code",
      "metadata": {
        "id": "HxeH6lvVeeXs"
      },
      "source": [
        ""
      ],
      "execution_count": null,
      "outputs": []
    }
  ]
}