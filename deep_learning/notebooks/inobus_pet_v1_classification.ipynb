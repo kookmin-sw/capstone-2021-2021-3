{
  "nbformat": 4,
  "nbformat_minor": 0,
  "metadata": {
    "colab": {
      "name": "inobus_pet_v1_classification.ipynb",
      "provenance": []
    },
    "kernelspec": {
      "name": "python3",
      "display_name": "Python 3"
    },
    "accelerator": "GPU"
  },
  "cells": [
    {
      "cell_type": "code",
      "metadata": {
        "id": "Th1dwYBOocQC"
      },
      "source": [
        "from google.colab import auth\n",
        "auth.authenticate_user()"
      ],
      "execution_count": null,
      "outputs": []
    },
    {
      "cell_type": "code",
      "metadata": {
        "id": "PwZeId9PoiUY"
      },
      "source": [
        "!pip install -q tfds-nightly\n",
        "import tensorflow_datasets as tfds\n",
        "ds, info = tfds.load('inobus_pet_v1', with_info=True, data_dir='gs://pet_dataset/inobus_pet_v1')"
      ],
      "execution_count": null,
      "outputs": []
    },
    {
      "cell_type": "code",
      "metadata": {
        "id": "RUv5smYRz3v1"
      },
      "source": [
        "train_ds, test_ds = ds['train'], ds['test']"
      ],
      "execution_count": null,
      "outputs": []
    },
    {
      "cell_type": "code",
      "metadata": {
        "id": "4cokllXy-hsN"
      },
      "source": [
        "import tensorflow as tf\n",
        "\n",
        "@tf.function\n",
        "def load_image_label(datapoint):\n",
        "  img = datapoint['image']\n",
        "  label = datapoint['label']\n",
        "\n",
        "  return img, label "
      ],
      "execution_count": null,
      "outputs": []
    },
    {
      "cell_type": "code",
      "metadata": {
        "id": "iCHl0bQy-iwH"
      },
      "source": [
        "train_ds = train_ds.map(load_image_label)\n",
        "test_ds = test_ds.map(load_image_label)"
      ],
      "execution_count": null,
      "outputs": []
    },
    {
      "cell_type": "code",
      "metadata": {
        "id": "V_6ZoXBXrg-G"
      },
      "source": [
        "import tensorflow as tf\n",
        "\n",
        "batch_size = 32\n",
        "buffer_size = 1000\n",
        "\n",
        "train_ds = train_ds.cache().shuffle(buffer_size).batch(batch_size)\n",
        "train_ds = train_ds.prefetch(buffer_size=tf.data.AUTOTUNE)\n",
        "test_ds = test_ds.cache().batch(batch_size)\n",
        "test_ds = test_ds.prefetch(buffer_size=tf.data.AUTOTUNE)"
      ],
      "execution_count": null,
      "outputs": []
    },
    {
      "cell_type": "code",
      "metadata": {
        "id": "uCoIzBlEzJVw",
        "colab": {
          "base_uri": "https://localhost:8080/"
        },
        "outputId": "b3ad4bff-456a-4e29-b372-7d5bd495e0b3"
      },
      "source": [
        "for images_batch, labels_batch in train_ds:\n",
        "  print(images_batch.shape)\n",
        "  print(labels_batch.shape)\n",
        "  break"
      ],
      "execution_count": null,
      "outputs": [
        {
          "output_type": "stream",
          "text": [
            "(32, 224, 224, 3)\n",
            "(32,)\n"
          ],
          "name": "stdout"
        }
      ]
    },
    {
      "cell_type": "code",
      "metadata": {
        "id": "GaWcbudI_eRy"
      },
      "source": [
        "img_shape = (224, 224, 3) \n",
        "mobilenet = tf.keras.applications.MobileNet(\n",
        "    input_shape=img_shape,\n",
        "    include_top=False,\n",
        "    weights=None\n",
        ")"
      ],
      "execution_count": null,
      "outputs": []
    },
    {
      "cell_type": "code",
      "metadata": {
        "colab": {
          "base_uri": "https://localhost:8080/"
        },
        "id": "RsiaPBcj9r-9",
        "outputId": "c8378705-0fb9-4a53-c3ee-52f3409188bf"
      },
      "source": [
        "image_batch, label_batch = next(iter(train_ds))\n",
        "feature_batch = mobilenet(image_batch)\n",
        "print(feature_batch.shape)"
      ],
      "execution_count": null,
      "outputs": [
        {
          "output_type": "stream",
          "text": [
            "(32, 7, 7, 1024)\n"
          ],
          "name": "stdout"
        }
      ]
    },
    {
      "cell_type": "code",
      "metadata": {
        "colab": {
          "base_uri": "https://localhost:8080/"
        },
        "id": "zHTpbCuOBEnB",
        "outputId": "6de2877f-096e-4624-c2ce-1de8d82547ad"
      },
      "source": [
        "mobilenet.summary()"
      ],
      "execution_count": null,
      "outputs": [
        {
          "output_type": "stream",
          "text": [
            "Model: \"mobilenet_1.00_224\"\n",
            "_________________________________________________________________\n",
            "Layer (type)                 Output Shape              Param #   \n",
            "=================================================================\n",
            "input_1 (InputLayer)         [(None, 224, 224, 3)]     0         \n",
            "_________________________________________________________________\n",
            "conv1 (Conv2D)               (None, 112, 112, 32)      864       \n",
            "_________________________________________________________________\n",
            "conv1_bn (BatchNormalization (None, 112, 112, 32)      128       \n",
            "_________________________________________________________________\n",
            "conv1_relu (ReLU)            (None, 112, 112, 32)      0         \n",
            "_________________________________________________________________\n",
            "conv_dw_1 (DepthwiseConv2D)  (None, 112, 112, 32)      288       \n",
            "_________________________________________________________________\n",
            "conv_dw_1_bn (BatchNormaliza (None, 112, 112, 32)      128       \n",
            "_________________________________________________________________\n",
            "conv_dw_1_relu (ReLU)        (None, 112, 112, 32)      0         \n",
            "_________________________________________________________________\n",
            "conv_pw_1 (Conv2D)           (None, 112, 112, 64)      2048      \n",
            "_________________________________________________________________\n",
            "conv_pw_1_bn (BatchNormaliza (None, 112, 112, 64)      256       \n",
            "_________________________________________________________________\n",
            "conv_pw_1_relu (ReLU)        (None, 112, 112, 64)      0         \n",
            "_________________________________________________________________\n",
            "conv_pad_2 (ZeroPadding2D)   (None, 113, 113, 64)      0         \n",
            "_________________________________________________________________\n",
            "conv_dw_2 (DepthwiseConv2D)  (None, 56, 56, 64)        576       \n",
            "_________________________________________________________________\n",
            "conv_dw_2_bn (BatchNormaliza (None, 56, 56, 64)        256       \n",
            "_________________________________________________________________\n",
            "conv_dw_2_relu (ReLU)        (None, 56, 56, 64)        0         \n",
            "_________________________________________________________________\n",
            "conv_pw_2 (Conv2D)           (None, 56, 56, 128)       8192      \n",
            "_________________________________________________________________\n",
            "conv_pw_2_bn (BatchNormaliza (None, 56, 56, 128)       512       \n",
            "_________________________________________________________________\n",
            "conv_pw_2_relu (ReLU)        (None, 56, 56, 128)       0         \n",
            "_________________________________________________________________\n",
            "conv_dw_3 (DepthwiseConv2D)  (None, 56, 56, 128)       1152      \n",
            "_________________________________________________________________\n",
            "conv_dw_3_bn (BatchNormaliza (None, 56, 56, 128)       512       \n",
            "_________________________________________________________________\n",
            "conv_dw_3_relu (ReLU)        (None, 56, 56, 128)       0         \n",
            "_________________________________________________________________\n",
            "conv_pw_3 (Conv2D)           (None, 56, 56, 128)       16384     \n",
            "_________________________________________________________________\n",
            "conv_pw_3_bn (BatchNormaliza (None, 56, 56, 128)       512       \n",
            "_________________________________________________________________\n",
            "conv_pw_3_relu (ReLU)        (None, 56, 56, 128)       0         \n",
            "_________________________________________________________________\n",
            "conv_pad_4 (ZeroPadding2D)   (None, 57, 57, 128)       0         \n",
            "_________________________________________________________________\n",
            "conv_dw_4 (DepthwiseConv2D)  (None, 28, 28, 128)       1152      \n",
            "_________________________________________________________________\n",
            "conv_dw_4_bn (BatchNormaliza (None, 28, 28, 128)       512       \n",
            "_________________________________________________________________\n",
            "conv_dw_4_relu (ReLU)        (None, 28, 28, 128)       0         \n",
            "_________________________________________________________________\n",
            "conv_pw_4 (Conv2D)           (None, 28, 28, 256)       32768     \n",
            "_________________________________________________________________\n",
            "conv_pw_4_bn (BatchNormaliza (None, 28, 28, 256)       1024      \n",
            "_________________________________________________________________\n",
            "conv_pw_4_relu (ReLU)        (None, 28, 28, 256)       0         \n",
            "_________________________________________________________________\n",
            "conv_dw_5 (DepthwiseConv2D)  (None, 28, 28, 256)       2304      \n",
            "_________________________________________________________________\n",
            "conv_dw_5_bn (BatchNormaliza (None, 28, 28, 256)       1024      \n",
            "_________________________________________________________________\n",
            "conv_dw_5_relu (ReLU)        (None, 28, 28, 256)       0         \n",
            "_________________________________________________________________\n",
            "conv_pw_5 (Conv2D)           (None, 28, 28, 256)       65536     \n",
            "_________________________________________________________________\n",
            "conv_pw_5_bn (BatchNormaliza (None, 28, 28, 256)       1024      \n",
            "_________________________________________________________________\n",
            "conv_pw_5_relu (ReLU)        (None, 28, 28, 256)       0         \n",
            "_________________________________________________________________\n",
            "conv_pad_6 (ZeroPadding2D)   (None, 29, 29, 256)       0         \n",
            "_________________________________________________________________\n",
            "conv_dw_6 (DepthwiseConv2D)  (None, 14, 14, 256)       2304      \n",
            "_________________________________________________________________\n",
            "conv_dw_6_bn (BatchNormaliza (None, 14, 14, 256)       1024      \n",
            "_________________________________________________________________\n",
            "conv_dw_6_relu (ReLU)        (None, 14, 14, 256)       0         \n",
            "_________________________________________________________________\n",
            "conv_pw_6 (Conv2D)           (None, 14, 14, 512)       131072    \n",
            "_________________________________________________________________\n",
            "conv_pw_6_bn (BatchNormaliza (None, 14, 14, 512)       2048      \n",
            "_________________________________________________________________\n",
            "conv_pw_6_relu (ReLU)        (None, 14, 14, 512)       0         \n",
            "_________________________________________________________________\n",
            "conv_dw_7 (DepthwiseConv2D)  (None, 14, 14, 512)       4608      \n",
            "_________________________________________________________________\n",
            "conv_dw_7_bn (BatchNormaliza (None, 14, 14, 512)       2048      \n",
            "_________________________________________________________________\n",
            "conv_dw_7_relu (ReLU)        (None, 14, 14, 512)       0         \n",
            "_________________________________________________________________\n",
            "conv_pw_7 (Conv2D)           (None, 14, 14, 512)       262144    \n",
            "_________________________________________________________________\n",
            "conv_pw_7_bn (BatchNormaliza (None, 14, 14, 512)       2048      \n",
            "_________________________________________________________________\n",
            "conv_pw_7_relu (ReLU)        (None, 14, 14, 512)       0         \n",
            "_________________________________________________________________\n",
            "conv_dw_8 (DepthwiseConv2D)  (None, 14, 14, 512)       4608      \n",
            "_________________________________________________________________\n",
            "conv_dw_8_bn (BatchNormaliza (None, 14, 14, 512)       2048      \n",
            "_________________________________________________________________\n",
            "conv_dw_8_relu (ReLU)        (None, 14, 14, 512)       0         \n",
            "_________________________________________________________________\n",
            "conv_pw_8 (Conv2D)           (None, 14, 14, 512)       262144    \n",
            "_________________________________________________________________\n",
            "conv_pw_8_bn (BatchNormaliza (None, 14, 14, 512)       2048      \n",
            "_________________________________________________________________\n",
            "conv_pw_8_relu (ReLU)        (None, 14, 14, 512)       0         \n",
            "_________________________________________________________________\n",
            "conv_dw_9 (DepthwiseConv2D)  (None, 14, 14, 512)       4608      \n",
            "_________________________________________________________________\n",
            "conv_dw_9_bn (BatchNormaliza (None, 14, 14, 512)       2048      \n",
            "_________________________________________________________________\n",
            "conv_dw_9_relu (ReLU)        (None, 14, 14, 512)       0         \n",
            "_________________________________________________________________\n",
            "conv_pw_9 (Conv2D)           (None, 14, 14, 512)       262144    \n",
            "_________________________________________________________________\n",
            "conv_pw_9_bn (BatchNormaliza (None, 14, 14, 512)       2048      \n",
            "_________________________________________________________________\n",
            "conv_pw_9_relu (ReLU)        (None, 14, 14, 512)       0         \n",
            "_________________________________________________________________\n",
            "conv_dw_10 (DepthwiseConv2D) (None, 14, 14, 512)       4608      \n",
            "_________________________________________________________________\n",
            "conv_dw_10_bn (BatchNormaliz (None, 14, 14, 512)       2048      \n",
            "_________________________________________________________________\n",
            "conv_dw_10_relu (ReLU)       (None, 14, 14, 512)       0         \n",
            "_________________________________________________________________\n",
            "conv_pw_10 (Conv2D)          (None, 14, 14, 512)       262144    \n",
            "_________________________________________________________________\n",
            "conv_pw_10_bn (BatchNormaliz (None, 14, 14, 512)       2048      \n",
            "_________________________________________________________________\n",
            "conv_pw_10_relu (ReLU)       (None, 14, 14, 512)       0         \n",
            "_________________________________________________________________\n",
            "conv_dw_11 (DepthwiseConv2D) (None, 14, 14, 512)       4608      \n",
            "_________________________________________________________________\n",
            "conv_dw_11_bn (BatchNormaliz (None, 14, 14, 512)       2048      \n",
            "_________________________________________________________________\n",
            "conv_dw_11_relu (ReLU)       (None, 14, 14, 512)       0         \n",
            "_________________________________________________________________\n",
            "conv_pw_11 (Conv2D)          (None, 14, 14, 512)       262144    \n",
            "_________________________________________________________________\n",
            "conv_pw_11_bn (BatchNormaliz (None, 14, 14, 512)       2048      \n",
            "_________________________________________________________________\n",
            "conv_pw_11_relu (ReLU)       (None, 14, 14, 512)       0         \n",
            "_________________________________________________________________\n",
            "conv_pad_12 (ZeroPadding2D)  (None, 15, 15, 512)       0         \n",
            "_________________________________________________________________\n",
            "conv_dw_12 (DepthwiseConv2D) (None, 7, 7, 512)         4608      \n",
            "_________________________________________________________________\n",
            "conv_dw_12_bn (BatchNormaliz (None, 7, 7, 512)         2048      \n",
            "_________________________________________________________________\n",
            "conv_dw_12_relu (ReLU)       (None, 7, 7, 512)         0         \n",
            "_________________________________________________________________\n",
            "conv_pw_12 (Conv2D)          (None, 7, 7, 1024)        524288    \n",
            "_________________________________________________________________\n",
            "conv_pw_12_bn (BatchNormaliz (None, 7, 7, 1024)        4096      \n",
            "_________________________________________________________________\n",
            "conv_pw_12_relu (ReLU)       (None, 7, 7, 1024)        0         \n",
            "_________________________________________________________________\n",
            "conv_dw_13 (DepthwiseConv2D) (None, 7, 7, 1024)        9216      \n",
            "_________________________________________________________________\n",
            "conv_dw_13_bn (BatchNormaliz (None, 7, 7, 1024)        4096      \n",
            "_________________________________________________________________\n",
            "conv_dw_13_relu (ReLU)       (None, 7, 7, 1024)        0         \n",
            "_________________________________________________________________\n",
            "conv_pw_13 (Conv2D)          (None, 7, 7, 1024)        1048576   \n",
            "_________________________________________________________________\n",
            "conv_pw_13_bn (BatchNormaliz (None, 7, 7, 1024)        4096      \n",
            "_________________________________________________________________\n",
            "conv_pw_13_relu (ReLU)       (None, 7, 7, 1024)        0         \n",
            "=================================================================\n",
            "Total params: 3,228,864\n",
            "Trainable params: 3,206,976\n",
            "Non-trainable params: 21,888\n",
            "_________________________________________________________________\n"
          ],
          "name": "stdout"
        }
      ]
    },
    {
      "cell_type": "code",
      "metadata": {
        "colab": {
          "base_uri": "https://localhost:8080/"
        },
        "id": "_IumN7MwBLEa",
        "outputId": "cc66dd75-842e-4ac4-d672-0f83a563756c"
      },
      "source": [
        "global_average_layer = tf.keras.layers.GlobalAveragePooling2D()\n",
        "feature_batch_average = global_average_layer(feature_batch)\n",
        "print(feature_batch_average.shape)"
      ],
      "execution_count": null,
      "outputs": [
        {
          "output_type": "stream",
          "text": [
            "(32, 1024)\n"
          ],
          "name": "stdout"
        }
      ]
    },
    {
      "cell_type": "code",
      "metadata": {
        "colab": {
          "base_uri": "https://localhost:8080/"
        },
        "id": "6daz50QqCQOU",
        "outputId": "12cc4de7-11c6-44f0-90d3-7ca4238e5707"
      },
      "source": [
        "prediction_layer = tf.keras.layers.Dense(1, activation='sigmoid')\n",
        "prediction_batch = prediction_layer(feature_batch_average)\n",
        "print(prediction_batch.shape)"
      ],
      "execution_count": null,
      "outputs": [
        {
          "output_type": "stream",
          "text": [
            "(32, 1)\n"
          ],
          "name": "stdout"
        }
      ]
    },
    {
      "cell_type": "code",
      "metadata": {
        "id": "j8dTvpnLCaY0"
      },
      "source": [
        "def get_model():\n",
        "  inputs = tf.keras.Input(shape=(224, 224, 3))\n",
        "  x = mobilenet(inputs)\n",
        "  x = global_average_layer(x)\n",
        "  outputs = prediction_layer(x)\n",
        "  \n",
        "  return tf.keras.Model(inputs, outputs)"
      ],
      "execution_count": null,
      "outputs": []
    },
    {
      "cell_type": "code",
      "metadata": {
        "id": "uadRGsx2Nmb4"
      },
      "source": [
        "model = get_model()\n",
        "lr = 1e-3\n",
        "model.compile(optimizer=tf.keras.optimizers.Adam(lr=lr),\n",
        "              loss=tf.keras.losses.BinaryCrossentropy(from_logits=False),\n",
        "              metrics=['accuracy', tf.keras.metrics.Precision(name='precision'), tf.keras.metrics.Recall(name='recall')])"
      ],
      "execution_count": null,
      "outputs": []
    },
    {
      "cell_type": "code",
      "metadata": {
        "colab": {
          "base_uri": "https://localhost:8080/"
        },
        "id": "vzVNRsg7OESf",
        "outputId": "ca188fc9-a981-4e41-e849-c90e26f0d545"
      },
      "source": [
        "model.summary()"
      ],
      "execution_count": null,
      "outputs": [
        {
          "output_type": "stream",
          "text": [
            "Model: \"model\"\n",
            "_________________________________________________________________\n",
            "Layer (type)                 Output Shape              Param #   \n",
            "=================================================================\n",
            "input_2 (InputLayer)         [(None, 224, 224, 3)]     0         \n",
            "_________________________________________________________________\n",
            "mobilenet_1.00_224 (Function (None, 7, 7, 1024)        3228864   \n",
            "_________________________________________________________________\n",
            "global_average_pooling2d (Gl (None, 1024)              0         \n",
            "_________________________________________________________________\n",
            "dense (Dense)                (None, 1)                 1025      \n",
            "=================================================================\n",
            "Total params: 3,229,889\n",
            "Trainable params: 3,208,001\n",
            "Non-trainable params: 21,888\n",
            "_________________________________________________________________\n"
          ],
          "name": "stdout"
        }
      ]
    },
    {
      "cell_type": "code",
      "metadata": {
        "colab": {
          "base_uri": "https://localhost:8080/"
        },
        "id": "3qtC0AHrOLEE",
        "outputId": "6e790556-b660-415b-9743-ddd1445c69bb"
      },
      "source": [
        "len(model.trainable_variables)"
      ],
      "execution_count": null,
      "outputs": [
        {
          "output_type": "execute_result",
          "data": {
            "text/plain": [
              "83"
            ]
          },
          "metadata": {
            "tags": []
          },
          "execution_count": 16
        }
      ]
    },
    {
      "cell_type": "code",
      "metadata": {
        "colab": {
          "base_uri": "https://localhost:8080/"
        },
        "id": "M653rqd6OPV8",
        "outputId": "055591d2-bb31-4f2b-9a1c-db4fa8395049"
      },
      "source": [
        "init_loss, init_acc, init_prec, init_recall = model.evaluate(test_ds)"
      ],
      "execution_count": null,
      "outputs": [
        {
          "output_type": "stream",
          "text": [
            "30/30 [==============================] - 2s 25ms/step - loss: 0.6931 - accuracy: 0.3793 - precision: 0.0000e+00 - recall: 0.0000e+00\n"
          ],
          "name": "stdout"
        }
      ]
    },
    {
      "cell_type": "code",
      "metadata": {
        "colab": {
          "base_uri": "https://localhost:8080/"
        },
        "id": "AYEayLjTOdCN",
        "outputId": "6a3eaa8a-8cd5-4722-d6ba-9fc15b514618"
      },
      "source": [
        "print(f\"initial loss: {init_loss}\")\n",
        "print(f\"initial accuracy: {init_acc}\")\n",
        "print(f\"initial precision: {init_prec}\")\n",
        "print(f\"initial recall: {init_recall}\")"
      ],
      "execution_count": null,
      "outputs": [
        {
          "output_type": "stream",
          "text": [
            "initial loss: 0.6931474804878235\n",
            "initial accuracy: 0.3862660825252533\n",
            "initial precision: 0.0\n",
            "initial recall: 0.0\n"
          ],
          "name": "stdout"
        }
      ]
    },
    {
      "cell_type": "code",
      "metadata": {
        "colab": {
          "base_uri": "https://localhost:8080/"
        },
        "id": "nIxpP1iLQFJ5",
        "outputId": "89c42188-bd99-48da-ee17-b8ee1c282a73"
      },
      "source": [
        "epochs = 10\n",
        "history = model.fit(train_ds,\n",
        "                    epochs=epochs,\n",
        "                    validation_data=test_ds)"
      ],
      "execution_count": null,
      "outputs": [
        {
          "output_type": "stream",
          "text": [
            "Epoch 1/10\n",
            "32/32 [==============================] - 8s 180ms/step - loss: 0.3314 - accuracy: 0.8523 - precision: 0.8832 - recall: 0.8545 - val_loss: 0.7880 - val_accuracy: 0.3863 - val_precision: 0.0000e+00 - val_recall: 0.0000e+00\n",
            "Epoch 2/10\n",
            "32/32 [==============================] - 5s 164ms/step - loss: 0.0410 - accuracy: 0.9834 - precision: 0.9880 - recall: 0.9829 - val_loss: 1.1845 - val_accuracy: 0.3863 - val_precision: 0.0000e+00 - val_recall: 0.0000e+00\n",
            "Epoch 3/10\n",
            "32/32 [==============================] - 5s 166ms/step - loss: 0.0140 - accuracy: 0.9961 - precision: 0.9983 - recall: 0.9949 - val_loss: 1.6661 - val_accuracy: 0.3863 - val_precision: 0.0000e+00 - val_recall: 0.0000e+00\n",
            "Epoch 4/10\n",
            "32/32 [==============================] - 5s 164ms/step - loss: 0.0145 - accuracy: 0.9951 - precision: 0.9983 - recall: 0.9932 - val_loss: 1.9598 - val_accuracy: 0.3863 - val_precision: 0.0000e+00 - val_recall: 0.0000e+00\n",
            "Epoch 5/10\n",
            "32/32 [==============================] - 5s 166ms/step - loss: 0.0052 - accuracy: 0.9980 - precision: 0.9983 - recall: 0.9983 - val_loss: 2.3399 - val_accuracy: 0.3863 - val_precision: 0.0000e+00 - val_recall: 0.0000e+00\n",
            "Epoch 6/10\n",
            "32/32 [==============================] - 5s 165ms/step - loss: 0.0070 - accuracy: 0.9971 - precision: 0.9966 - recall: 0.9983 - val_loss: 2.6166 - val_accuracy: 0.3863 - val_precision: 0.0000e+00 - val_recall: 0.0000e+00\n",
            "Epoch 7/10\n",
            "32/32 [==============================] - 5s 165ms/step - loss: 0.0295 - accuracy: 0.9912 - precision: 0.9931 - recall: 0.9914 - val_loss: 2.5443 - val_accuracy: 0.3863 - val_precision: 0.0000e+00 - val_recall: 0.0000e+00\n",
            "Epoch 8/10\n",
            "32/32 [==============================] - 5s 164ms/step - loss: 0.0163 - accuracy: 0.9941 - precision: 1.0000 - recall: 0.9897 - val_loss: 2.4907 - val_accuracy: 0.3863 - val_precision: 0.0000e+00 - val_recall: 0.0000e+00\n",
            "Epoch 9/10\n",
            "32/32 [==============================] - 5s 163ms/step - loss: 0.0088 - accuracy: 0.9971 - precision: 0.9966 - recall: 0.9983 - val_loss: 2.1459 - val_accuracy: 0.3863 - val_precision: 0.0000e+00 - val_recall: 0.0000e+00\n",
            "Epoch 10/10\n",
            "32/32 [==============================] - 5s 166ms/step - loss: 0.0097 - accuracy: 0.9961 - precision: 0.9983 - recall: 0.9949 - val_loss: 1.9865 - val_accuracy: 0.3863 - val_precision: 0.0000e+00 - val_recall: 0.0000e+00\n"
          ],
          "name": "stdout"
        }
      ]
    },
    {
      "cell_type": "code",
      "metadata": {
        "colab": {
          "base_uri": "https://localhost:8080/",
          "height": 513
        },
        "id": "fWaGbRInQhY7",
        "outputId": "87c34fc1-19ce-4890-fe28-2c4e26be8236"
      },
      "source": [
        "import matplotlib.pyplot as plt\n",
        "\n",
        "acc = history.history['accuracy']\n",
        "val_acc = history.history['val_accuracy']\n",
        "\n",
        "loss = history.history['loss']\n",
        "val_loss = history.history['val_loss']\n",
        "\n",
        "plt.figure(figsize=(8, 8))\n",
        "plt.subplot(2, 1, 1)\n",
        "plt.plot(acc, label='Training Accuracy')\n",
        "plt.plot(val_acc, label='Validation Accuracy')\n",
        "plt.legend(loc='lower right')\n",
        "plt.ylabel('Accuracy')\n",
        "plt.title('Training and Validation Accuracy')\n",
        "\n",
        "plt.subplot(2, 1, 2)\n",
        "plt.plot(loss, label='Training Loss')\n",
        "plt.plot(val_loss, label='Validation Loss')\n",
        "plt.legend(loc='upper right')\n",
        "plt.ylabel('Cross Entropy')\n",
        "plt.title('Training and Validation Loss')\n",
        "plt.xlabel('epoch')\n",
        "plt.show()"
      ],
      "execution_count": null,
      "outputs": [
        {
          "output_type": "display_data",
          "data": {
            "image/png": "[encoded data removed]",
            "text/plain": [
              "<Figure size 576x576 with 2 Axes>"
            ]
          },
          "metadata": {
            "tags": [],
            "needs_background": "light"
          }
        }
      ]
    },
    {
      "cell_type": "code",
      "metadata": {
        "colab": {
          "base_uri": "https://localhost:8080/",
          "height": 513
        },
        "id": "s8q32wyfQlb8",
        "outputId": "47eb5cc5-2535-427d-d4a4-4c5d8ddc9dca"
      },
      "source": [
        "precision = history.history['precision']\n",
        "val_precision = history.history['val_precision']\n",
        "\n",
        "recall = history.history['recall']\n",
        "val_recall = history.history['val_recall']\n",
        "\n",
        "plt.figure(figsize=(8, 8))\n",
        "plt.subplot(2, 1, 1)\n",
        "plt.plot(precision, label='Training Precision')\n",
        "plt.plot(val_precision, label='Validation Precision')\n",
        "plt.legend(loc='lower right')\n",
        "plt.ylabel('Precision')\n",
        "plt.title('Training and Validation Precision')\n",
        "\n",
        "plt.subplot(2, 1, 2)\n",
        "plt.plot(recall, label='Training Recall')\n",
        "plt.plot(val_recall, label='Validation Recall')\n",
        "plt.legend(loc='upper right')\n",
        "plt.ylabel('Recall')\n",
        "plt.title('Training and Validation Recall')\n",
        "plt.xlabel('epoch')\n",
        "plt.show()"
      ],
      "execution_count": null,
      "outputs": [
        {
          "output_type": "display_data",
          "data": {
            "image/png": "[encoded data removed]",
            "text/plain": [
              "<Figure size 576x576 with 2 Axes>"
            ]
          },
          "metadata": {
            "tags": [],
            "needs_background": "light"
          }
        }
      ]
    },
    {
      "cell_type": "code",
      "metadata": {
        "id": "GlzX0__TYUdl",
        "colab": {
          "base_uri": "https://localhost:8080/"
        },
        "outputId": "ac510130-9358-4fba-8010-c66c8b17799d"
      },
      "source": [
        "pred = model.predict(test_ds.take(1))\n",
        "print(pred)"
      ],
      "execution_count": null,
      "outputs": [
        {
          "output_type": "stream",
          "text": [
            "[[0.04032337]\n",
            " [0.04032449]\n",
            " [0.04032327]\n",
            " [0.04032319]\n",
            " [0.04032375]\n",
            " [0.04032408]\n",
            " [0.04032464]\n",
            " [0.04032351]\n",
            " [0.04032372]\n",
            " [0.04032398]\n",
            " [0.04032396]\n",
            " [0.04032447]\n",
            " [0.04032375]\n",
            " [0.04032449]\n",
            " [0.0403249 ]\n",
            " [0.04032531]\n",
            " [0.04032308]\n",
            " [0.04032375]\n",
            " [0.04032327]\n",
            " [0.04032416]\n",
            " [0.04032382]\n",
            " [0.04032451]\n",
            " [0.04032364]\n",
            " [0.0403242 ]\n",
            " [0.04032437]\n",
            " [0.04032396]\n",
            " [0.04032382]\n",
            " [0.04032457]\n",
            " [0.04032425]\n",
            " [0.04032497]\n",
            " [0.04032488]\n",
            " [0.04032458]]\n"
          ],
          "name": "stdout"
        }
      ]
    },
    {
      "cell_type": "code",
      "metadata": {
        "id": "HxeH6lvVeeXs"
      },
      "source": [
        ""
      ],
      "execution_count": null,
      "outputs": []
    }
  ]
}