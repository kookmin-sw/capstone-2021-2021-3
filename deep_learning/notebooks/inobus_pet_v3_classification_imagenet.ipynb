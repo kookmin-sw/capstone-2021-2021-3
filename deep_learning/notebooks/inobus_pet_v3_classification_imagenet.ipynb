{
  "nbformat": 4,
  "nbformat_minor": 0,
  "metadata": {
    "colab": {
      "name": "inobus_pet_v3_classification_imagenet.ipynb",
      "provenance": [],
      "collapsed_sections": []
    },
    "kernelspec": {
      "name": "python3",
      "display_name": "Python 3"
    },
    "accelerator": "GPU"
  },
  "cells": [
    {
      "cell_type": "code",
      "metadata": {
        "id": "Th1dwYBOocQC"
      },
      "source": [
        "from google.colab import auth\n",
        "auth.authenticate_user()"
      ],
      "execution_count": 1,
      "outputs": []
    },
    {
      "cell_type": "code",
      "metadata": {
        "id": "PwZeId9PoiUY",
        "colab": {
          "base_uri": "https://localhost:8080/"
        },
        "outputId": "09091697-09e7-4b00-f2e2-1971d55a9aac"
      },
      "source": [
        "!pip install -q tfds-nightly\n",
        "import tensorflow_datasets as tfds\n",
        "ds, info = tfds.load('inobus_pet_v3', with_info=True, data_dir='gs://pet_dataset/inobus_pet_v3')"
      ],
      "execution_count": 2,
      "outputs": [
        {
          "output_type": "stream",
          "text": [
            "\u001b[K     |████████████████████████████████| 3.8MB 7.8MB/s \n",
            "\u001b[?25h"
          ],
          "name": "stdout"
        }
      ]
    },
    {
      "cell_type": "code",
      "metadata": {
        "id": "RUv5smYRz3v1"
      },
      "source": [
        "train_ds, test_ds = ds['train'], ds['test']"
      ],
      "execution_count": 3,
      "outputs": []
    },
    {
      "cell_type": "code",
      "metadata": {
        "id": "4cokllXy-hsN"
      },
      "source": [
        "import tensorflow as tf\n",
        "\n",
        "@tf.function\n",
        "def load_image_label(datapoint):\n",
        "  img = datapoint['image']\n",
        "  label = datapoint['label']\n",
        "\n",
        "  return img, label "
      ],
      "execution_count": 4,
      "outputs": []
    },
    {
      "cell_type": "code",
      "metadata": {
        "id": "iCHl0bQy-iwH"
      },
      "source": [
        "train_ds = train_ds.map(load_image_label)\n",
        "test_ds = test_ds.map(load_image_label)"
      ],
      "execution_count": 5,
      "outputs": []
    },
    {
      "cell_type": "code",
      "metadata": {
        "id": "V_6ZoXBXrg-G"
      },
      "source": [
        "batch_size = 32\n",
        "buffer_size = 1000\n",
        "\n",
        "train_ds = train_ds.cache().shuffle(buffer_size).batch(batch_size)\n",
        "train_ds = train_ds.prefetch(buffer_size=tf.data.AUTOTUNE)\n",
        "test_ds = test_ds.cache().batch(batch_size)\n",
        "test_ds = test_ds.prefetch(buffer_size=tf.data.AUTOTUNE)"
      ],
      "execution_count": 6,
      "outputs": []
    },
    {
      "cell_type": "code",
      "metadata": {
        "id": "GaWcbudI_eRy",
        "colab": {
          "base_uri": "https://localhost:8080/"
        },
        "outputId": "690d26b7-d409-4fb3-8408-9e639e320700"
      },
      "source": [
        "img_shape = (224, 224, 3) \n",
        "mobilenet = tf.keras.applications.MobileNet(\n",
        "    input_shape=img_shape,\n",
        "    include_top=False,\n",
        "    weights='imagenet'\n",
        ")"
      ],
      "execution_count": 7,
      "outputs": [
        {
          "output_type": "stream",
          "text": [
            "Downloading data from https://storage.googleapis.com/tensorflow/keras-applications/mobilenet/mobilenet_1_0_224_tf_no_top.h5\n",
            "17227776/17225924 [==============================] - 0s 0us/step\n"
          ],
          "name": "stdout"
        }
      ]
    },
    {
      "cell_type": "code",
      "metadata": {
        "id": "Y0776SuIAUno"
      },
      "source": [
        "global_average_layer = tf.keras.layers.GlobalAveragePooling2D()"
      ],
      "execution_count": 8,
      "outputs": []
    },
    {
      "cell_type": "code",
      "metadata": {
        "id": "RgtFb1UBAZOr"
      },
      "source": [
        "prediction_layer = tf.keras.layers.Dense(1, activation='sigmoid')"
      ],
      "execution_count": 9,
      "outputs": []
    },
    {
      "cell_type": "code",
      "metadata": {
        "id": "j8dTvpnLCaY0"
      },
      "source": [
        "def get_model():\n",
        "  inputs = tf.keras.Input(shape=(224, 224, 3))\n",
        "  x = mobilenet(inputs)\n",
        "  x = global_average_layer(x)\n",
        "  outputs = prediction_layer(x)\n",
        "  \n",
        "  return tf.keras.Model(inputs, outputs)"
      ],
      "execution_count": 10,
      "outputs": []
    },
    {
      "cell_type": "code",
      "metadata": {
        "id": "uadRGsx2Nmb4"
      },
      "source": [
        "model = get_model()\n",
        "lr = 3e-4\n",
        "model.compile(optimizer=tf.keras.optimizers.Adam(lr=lr),\n",
        "              loss=tf.keras.losses.BinaryCrossentropy(from_logits=False),\n",
        "              metrics=['accuracy', tf.keras.metrics.Precision(name='precision'), tf.keras.metrics.Recall(name='recall')])"
      ],
      "execution_count": 11,
      "outputs": []
    },
    {
      "cell_type": "code",
      "metadata": {
        "colab": {
          "base_uri": "https://localhost:8080/"
        },
        "id": "3qtC0AHrOLEE",
        "outputId": "06f13ad4-b565-49ed-d587-1a2d358e6734"
      },
      "source": [
        "len(model.trainable_variables)"
      ],
      "execution_count": 12,
      "outputs": [
        {
          "output_type": "execute_result",
          "data": {
            "text/plain": [
              "83"
            ]
          },
          "metadata": {
            "tags": []
          },
          "execution_count": 12
        }
      ]
    },
    {
      "cell_type": "code",
      "metadata": {
        "colab": {
          "base_uri": "https://localhost:8080/"
        },
        "id": "M653rqd6OPV8",
        "outputId": "9e1db5c6-61bf-4fdc-b798-6d24568cde49"
      },
      "source": [
        "init_loss, init_acc, init_prec, init_recall = model.evaluate(test_ds)"
      ],
      "execution_count": 13,
      "outputs": [
        {
          "output_type": "stream",
          "text": [
            "8/8 [==============================] - 18s 35ms/step - loss: 1.0264 - accuracy: 0.3260 - precision: 0.0000e+00 - recall: 0.0000e+00\n"
          ],
          "name": "stdout"
        }
      ]
    },
    {
      "cell_type": "code",
      "metadata": {
        "colab": {
          "base_uri": "https://localhost:8080/"
        },
        "id": "AYEayLjTOdCN",
        "outputId": "be7c963e-b33b-42b7-cbde-087a59350d65"
      },
      "source": [
        "print(f\"initial loss: {init_loss}\")\n",
        "print(f\"initial accuracy: {init_acc}\")\n",
        "print(f\"initial precision: {init_prec}\")\n",
        "print(f\"initial recall: {init_recall}\")"
      ],
      "execution_count": 14,
      "outputs": [
        {
          "output_type": "stream",
          "text": [
            "initial loss: 1.018125295639038\n",
            "initial accuracy: 0.3333333432674408\n",
            "initial precision: 0.0\n",
            "initial recall: 0.0\n"
          ],
          "name": "stdout"
        }
      ]
    },
    {
      "cell_type": "code",
      "metadata": {
        "colab": {
          "base_uri": "https://localhost:8080/"
        },
        "id": "nIxpP1iLQFJ5",
        "outputId": "eb12b1a6-dc5e-48a8-f450-f622a59d1298"
      },
      "source": [
        "epochs = 20\n",
        "history = model.fit(train_ds,\n",
        "                    epochs=epochs,\n",
        "                    validation_data=test_ds)"
      ],
      "execution_count": 15,
      "outputs": [
        {
          "output_type": "stream",
          "text": [
            "Epoch 1/20\n",
            "30/30 [==============================] - 11s 131ms/step - loss: 0.1773 - accuracy: 0.9182 - precision: 0.9815 - recall: 0.9140 - val_loss: 5.1892 - val_accuracy: 0.3333 - val_precision: 0.0000e+00 - val_recall: 0.0000e+00\n",
            "Epoch 2/20\n",
            "30/30 [==============================] - 3s 114ms/step - loss: 0.0112 - accuracy: 0.9969 - precision: 0.9974 - recall: 0.9987 - val_loss: 2.7277 - val_accuracy: 0.3458 - val_precision: 1.0000 - val_recall: 0.0188\n",
            "Epoch 3/20\n",
            "30/30 [==============================] - 3s 113ms/step - loss: 0.0020 - accuracy: 1.0000 - precision: 1.0000 - recall: 1.0000 - val_loss: 0.9766 - val_accuracy: 0.6083 - val_precision: 1.0000 - val_recall: 0.4125\n",
            "Epoch 4/20\n",
            "30/30 [==============================] - 3s 113ms/step - loss: 0.0014 - accuracy: 1.0000 - precision: 1.0000 - recall: 1.0000 - val_loss: 0.2994 - val_accuracy: 0.8750 - val_precision: 1.0000 - val_recall: 0.8125\n",
            "Epoch 5/20\n",
            "30/30 [==============================] - 3s 112ms/step - loss: 6.8575e-04 - accuracy: 1.0000 - precision: 1.0000 - recall: 1.0000 - val_loss: 0.2082 - val_accuracy: 0.9208 - val_precision: 1.0000 - val_recall: 0.8813\n",
            "Epoch 6/20\n",
            "30/30 [==============================] - 3s 111ms/step - loss: 3.8528e-04 - accuracy: 1.0000 - precision: 1.0000 - recall: 1.0000 - val_loss: 0.0880 - val_accuracy: 0.9792 - val_precision: 1.0000 - val_recall: 0.9688\n",
            "Epoch 7/20\n",
            "30/30 [==============================] - 3s 112ms/step - loss: 5.2155e-04 - accuracy: 1.0000 - precision: 1.0000 - recall: 1.0000 - val_loss: 0.0597 - val_accuracy: 0.9792 - val_precision: 1.0000 - val_recall: 0.9688\n",
            "Epoch 8/20\n",
            "30/30 [==============================] - 3s 115ms/step - loss: 8.7784e-04 - accuracy: 1.0000 - precision: 1.0000 - recall: 1.0000 - val_loss: 0.0593 - val_accuracy: 0.9792 - val_precision: 1.0000 - val_recall: 0.9688\n",
            "Epoch 9/20\n",
            "30/30 [==============================] - 3s 114ms/step - loss: 4.0022e-04 - accuracy: 1.0000 - precision: 1.0000 - recall: 1.0000 - val_loss: 0.0423 - val_accuracy: 0.9833 - val_precision: 1.0000 - val_recall: 0.9750\n",
            "Epoch 10/20\n",
            "30/30 [==============================] - 3s 114ms/step - loss: 3.7979e-04 - accuracy: 1.0000 - precision: 1.0000 - recall: 1.0000 - val_loss: 0.0415 - val_accuracy: 0.9833 - val_precision: 1.0000 - val_recall: 0.9750\n",
            "Epoch 11/20\n",
            "30/30 [==============================] - 3s 112ms/step - loss: 2.2701e-04 - accuracy: 1.0000 - precision: 1.0000 - recall: 1.0000 - val_loss: 0.0394 - val_accuracy: 0.9833 - val_precision: 1.0000 - val_recall: 0.9750\n",
            "Epoch 12/20\n",
            "30/30 [==============================] - 3s 111ms/step - loss: 1.7307e-04 - accuracy: 1.0000 - precision: 1.0000 - recall: 1.0000 - val_loss: 0.0362 - val_accuracy: 0.9875 - val_precision: 1.0000 - val_recall: 0.9812\n",
            "Epoch 13/20\n",
            "30/30 [==============================] - 3s 112ms/step - loss: 1.9124e-04 - accuracy: 1.0000 - precision: 1.0000 - recall: 1.0000 - val_loss: 0.0358 - val_accuracy: 0.9875 - val_precision: 1.0000 - val_recall: 0.9812\n",
            "Epoch 14/20\n",
            "30/30 [==============================] - 3s 113ms/step - loss: 9.0927e-05 - accuracy: 1.0000 - precision: 1.0000 - recall: 1.0000 - val_loss: 0.0318 - val_accuracy: 0.9875 - val_precision: 1.0000 - val_recall: 0.9812\n",
            "Epoch 15/20\n",
            "30/30 [==============================] - 3s 113ms/step - loss: 1.0782e-04 - accuracy: 1.0000 - precision: 1.0000 - recall: 1.0000 - val_loss: 0.0310 - val_accuracy: 0.9875 - val_precision: 0.9937 - val_recall: 0.9875\n",
            "Epoch 16/20\n",
            "30/30 [==============================] - 3s 112ms/step - loss: 1.1764e-04 - accuracy: 1.0000 - precision: 1.0000 - recall: 1.0000 - val_loss: 0.0299 - val_accuracy: 0.9833 - val_precision: 0.9875 - val_recall: 0.9875\n",
            "Epoch 17/20\n",
            "30/30 [==============================] - 3s 111ms/step - loss: 3.0475e-04 - accuracy: 1.0000 - precision: 1.0000 - recall: 1.0000 - val_loss: 0.0290 - val_accuracy: 0.9875 - val_precision: 1.0000 - val_recall: 0.9812\n",
            "Epoch 18/20\n",
            "30/30 [==============================] - 3s 112ms/step - loss: 9.7202e-05 - accuracy: 1.0000 - precision: 1.0000 - recall: 1.0000 - val_loss: 0.0275 - val_accuracy: 0.9875 - val_precision: 1.0000 - val_recall: 0.9812\n",
            "Epoch 19/20\n",
            "30/30 [==============================] - 3s 114ms/step - loss: 3.7147e-05 - accuracy: 1.0000 - precision: 1.0000 - recall: 1.0000 - val_loss: 0.0272 - val_accuracy: 0.9917 - val_precision: 0.9937 - val_recall: 0.9937\n",
            "Epoch 20/20\n",
            "30/30 [==============================] - 3s 112ms/step - loss: 7.7744e-05 - accuracy: 1.0000 - precision: 1.0000 - recall: 1.0000 - val_loss: 0.0279 - val_accuracy: 0.9917 - val_precision: 0.9937 - val_recall: 0.9937\n"
          ],
          "name": "stdout"
        }
      ]
    },
    {
      "cell_type": "code",
      "metadata": {
        "colab": {
          "base_uri": "https://localhost:8080/",
          "height": 513
        },
        "id": "fWaGbRInQhY7",
        "outputId": "93eec847-c2db-428d-feac-f64b89d6939e"
      },
      "source": [
        "import matplotlib.pyplot as plt\n",
        "\n",
        "acc = history.history['accuracy']\n",
        "val_acc = history.history['val_accuracy']\n",
        "\n",
        "loss = history.history['loss']\n",
        "val_loss = history.history['val_loss']\n",
        "\n",
        "plt.figure(figsize=(8, 8))\n",
        "plt.subplot(2, 1, 1)\n",
        "plt.plot(acc, label='Training Accuracy')\n",
        "plt.plot(val_acc, label='Validation Accuracy')\n",
        "plt.legend(loc='lower right')\n",
        "plt.ylabel('Accuracy')\n",
        "plt.title('Training and Validation Accuracy')\n",
        "\n",
        "plt.subplot(2, 1, 2)\n",
        "plt.plot(loss, label='Training Loss')\n",
        "plt.plot(val_loss, label='Validation Loss')\n",
        "plt.legend(loc='upper right')\n",
        "plt.ylabel('Cross Entropy')\n",
        "plt.title('Training and Validation Loss')\n",
        "plt.xlabel('epoch')\n",
        "plt.show()"
      ],
      "execution_count": 16,
      "outputs": [
        {
          "output_type": "display_data",
          "data": {
            "image/png": "[encoded data removed]",
            "text/plain": [
              "<Figure size 576x576 with 2 Axes>"
            ]
          },
          "metadata": {
            "tags": [],
            "needs_background": "light"
          }
        }
      ]
    },
    {
      "cell_type": "code",
      "metadata": {
        "colab": {
          "base_uri": "https://localhost:8080/",
          "height": 513
        },
        "id": "s8q32wyfQlb8",
        "outputId": "cad6e0af-5708-4b21-abf7-23e05535ff35"
      },
      "source": [
        "precision = history.history['precision']\n",
        "val_precision = history.history['val_precision']\n",
        "\n",
        "recall = history.history['recall']\n",
        "val_recall = history.history['val_recall']\n",
        "\n",
        "plt.figure(figsize=(8, 8))\n",
        "plt.subplot(2, 1, 1)\n",
        "plt.plot(precision, label='Training Precision')\n",
        "plt.plot(val_precision, label='Validation Precision')\n",
        "plt.legend(loc='lower right')\n",
        "plt.ylabel('Precision')\n",
        "plt.title('Training and Validation Precision')\n",
        "\n",
        "plt.subplot(2, 1, 2)\n",
        "plt.plot(recall, label='Training Recall')\n",
        "plt.plot(val_recall, label='Validation Recall')\n",
        "plt.legend(loc='upper right')\n",
        "plt.ylabel('Recall')\n",
        "plt.title('Training and Validation Recall')\n",
        "plt.xlabel('epoch')\n",
        "plt.show()"
      ],
      "execution_count": 17,
      "outputs": [
        {
          "output_type": "display_data",
          "data": {
            "image/png": "[encoded data removed]",
            "text/plain": [
              "<Figure size 576x576 with 2 Axes>"
            ]
          },
          "metadata": {
            "tags": [],
            "needs_background": "light"
          }
        }
      ]
    },
    {
      "cell_type": "code",
      "metadata": {
        "id": "ABuxZ0jMWBGh"
      },
      "source": [
        ""
      ],
      "execution_count": null,
      "outputs": []
    }
  ]
}