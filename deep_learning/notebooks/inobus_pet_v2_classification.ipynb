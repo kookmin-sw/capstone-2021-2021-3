{
  "nbformat": 4,
  "nbformat_minor": 0,
  "metadata": {
    "colab": {
      "name": "inobus_pet_v2_classification.ipynb",
      "provenance": []
    },
    "kernelspec": {
      "name": "python3",
      "display_name": "Python 3"
    },
    "accelerator": "GPU"
  },
  "cells": [
    {
      "cell_type": "code",
      "metadata": {
        "id": "Th1dwYBOocQC"
      },
      "source": [
        "from google.colab import auth\n",
        "auth.authenticate_user()"
      ],
      "execution_count": 1,
      "outputs": []
    },
    {
      "cell_type": "code",
      "metadata": {
        "id": "PwZeId9PoiUY",
        "colab": {
          "base_uri": "https://localhost:8080/"
        },
        "outputId": "174bfc1f-4e7e-424e-e4a0-1ce8e1d15c9a"
      },
      "source": [
        "!pip install -q tfds-nightly\n",
        "import tensorflow_datasets as tfds\n",
        "ds, info = tfds.load('inobus_pet_v2', with_info=True, data_dir='gs://pet_dataset/inobus_pet_v2')"
      ],
      "execution_count": 2,
      "outputs": [
        {
          "output_type": "stream",
          "text": [
            "\u001b[K     |████████████████████████████████| 3.8MB 7.6MB/s \n",
            "\u001b[?25h"
          ],
          "name": "stdout"
        }
      ]
    },
    {
      "cell_type": "code",
      "metadata": {
        "id": "RUv5smYRz3v1"
      },
      "source": [
        "train_ds, test_ds = ds['train'], ds['test']"
      ],
      "execution_count": 3,
      "outputs": []
    },
    {
      "cell_type": "code",
      "metadata": {
        "id": "4cokllXy-hsN"
      },
      "source": [
        "import tensorflow as tf\n",
        "\n",
        "@tf.function\n",
        "def load_image_label(datapoint):\n",
        "  img = datapoint['image']\n",
        "  label = datapoint['label']\n",
        "\n",
        "  return img, label "
      ],
      "execution_count": 4,
      "outputs": []
    },
    {
      "cell_type": "code",
      "metadata": {
        "id": "iCHl0bQy-iwH"
      },
      "source": [
        "train_ds = train_ds.map(load_image_label)\n",
        "test_ds = test_ds.map(load_image_label)"
      ],
      "execution_count": 5,
      "outputs": []
    },
    {
      "cell_type": "code",
      "metadata": {
        "id": "V_6ZoXBXrg-G"
      },
      "source": [
        "batch_size = 32\n",
        "buffer_size = 1000\n",
        "\n",
        "train_ds = train_ds.cache().shuffle(buffer_size).batch(batch_size)\n",
        "train_ds = train_ds.prefetch(buffer_size=tf.data.AUTOTUNE)\n",
        "test_ds = test_ds.cache().batch(batch_size)\n",
        "test_ds = test_ds.prefetch(buffer_size=tf.data.AUTOTUNE)"
      ],
      "execution_count": 6,
      "outputs": []
    },
    {
      "cell_type": "code",
      "metadata": {
        "id": "uCoIzBlEzJVw",
        "colab": {
          "base_uri": "https://localhost:8080/"
        },
        "outputId": "b7611911-9a8d-4b64-aac7-6e1db732971e"
      },
      "source": [
        "for images_batch, labels_batch in train_ds:\n",
        "  print(images_batch.shape)\n",
        "  print(labels_batch.shape)\n",
        "  break"
      ],
      "execution_count": 7,
      "outputs": [
        {
          "output_type": "stream",
          "text": [
            "(32, 224, 224, 3)\n",
            "(32,)\n"
          ],
          "name": "stdout"
        }
      ]
    },
    {
      "cell_type": "code",
      "metadata": {
        "id": "GaWcbudI_eRy"
      },
      "source": [
        "img_shape = (224, 224, 3) \n",
        "mobilenet = tf.keras.applications.MobileNet(\n",
        "    input_shape=img_shape,\n",
        "    include_top=False,\n",
        "    weights=None\n",
        ")"
      ],
      "execution_count": 8,
      "outputs": []
    },
    {
      "cell_type": "code",
      "metadata": {
        "colab": {
          "base_uri": "https://localhost:8080/"
        },
        "id": "RsiaPBcj9r-9",
        "outputId": "83c8e33b-2601-4b39-fd57-317edec2093d"
      },
      "source": [
        "image_batch, label_batch = next(iter(train_ds))\n",
        "feature_batch = mobilenet(image_batch)\n",
        "print(feature_batch.shape)"
      ],
      "execution_count": 9,
      "outputs": [
        {
          "output_type": "stream",
          "text": [
            "(32, 7, 7, 1024)\n"
          ],
          "name": "stdout"
        }
      ]
    },
    {
      "cell_type": "code",
      "metadata": {
        "colab": {
          "base_uri": "https://localhost:8080/"
        },
        "id": "_IumN7MwBLEa",
        "outputId": "96cbdeb3-1e87-40c9-b3b3-f9163ab9f9d9"
      },
      "source": [
        "global_average_layer = tf.keras.layers.GlobalAveragePooling2D()\n",
        "feature_batch_average = global_average_layer(feature_batch)\n",
        "print(feature_batch_average.shape)"
      ],
      "execution_count": 10,
      "outputs": [
        {
          "output_type": "stream",
          "text": [
            "(32, 1024)\n"
          ],
          "name": "stdout"
        }
      ]
    },
    {
      "cell_type": "code",
      "metadata": {
        "colab": {
          "base_uri": "https://localhost:8080/"
        },
        "id": "6daz50QqCQOU",
        "outputId": "1b26a515-1978-4452-cbb9-738724723329"
      },
      "source": [
        "prediction_layer = tf.keras.layers.Dense(1, activation='sigmoid')\n",
        "prediction_batch = prediction_layer(feature_batch_average)\n",
        "print(prediction_batch.shape)"
      ],
      "execution_count": 11,
      "outputs": [
        {
          "output_type": "stream",
          "text": [
            "(32, 1)\n"
          ],
          "name": "stdout"
        }
      ]
    },
    {
      "cell_type": "code",
      "metadata": {
        "id": "j8dTvpnLCaY0"
      },
      "source": [
        "def get_model():\n",
        "  inputs = tf.keras.Input(shape=(224, 224, 3))\n",
        "  x = mobilenet(inputs)\n",
        "  x = global_average_layer(x)\n",
        "  outputs = prediction_layer(x)\n",
        "  \n",
        "  return tf.keras.Model(inputs, outputs)"
      ],
      "execution_count": 12,
      "outputs": []
    },
    {
      "cell_type": "code",
      "metadata": {
        "id": "uadRGsx2Nmb4"
      },
      "source": [
        "model = get_model()\n",
        "lr = 3e-4\n",
        "model.compile(optimizer=tf.keras.optimizers.Adam(lr=lr),\n",
        "              loss=tf.keras.losses.BinaryCrossentropy(from_logits=False),\n",
        "              metrics=['accuracy', tf.keras.metrics.Precision(name='precision'), tf.keras.metrics.Recall(name='recall')])"
      ],
      "execution_count": 13,
      "outputs": []
    },
    {
      "cell_type": "code",
      "metadata": {
        "colab": {
          "base_uri": "https://localhost:8080/"
        },
        "id": "3qtC0AHrOLEE",
        "outputId": "80739fb8-fce9-4ee3-d6b5-41b53bb4c4ce"
      },
      "source": [
        "len(model.trainable_variables)"
      ],
      "execution_count": 14,
      "outputs": [
        {
          "output_type": "execute_result",
          "data": {
            "text/plain": [
              "83"
            ]
          },
          "metadata": {
            "tags": []
          },
          "execution_count": 14
        }
      ]
    },
    {
      "cell_type": "code",
      "metadata": {
        "colab": {
          "base_uri": "https://localhost:8080/"
        },
        "id": "M653rqd6OPV8",
        "outputId": "4a77d4f3-bd68-46fe-f95e-3e4693d5c3d1"
      },
      "source": [
        "init_loss, init_acc, init_prec, init_recall = model.evaluate(test_ds)"
      ],
      "execution_count": 15,
      "outputs": [
        {
          "output_type": "stream",
          "text": [
            "4/4 [==============================] - 2s 43ms/step - loss: 0.6931 - accuracy: 0.4110 - precision: 0.0000e+00 - recall: 0.0000e+00\n"
          ],
          "name": "stdout"
        }
      ]
    },
    {
      "cell_type": "code",
      "metadata": {
        "colab": {
          "base_uri": "https://localhost:8080/"
        },
        "id": "AYEayLjTOdCN",
        "outputId": "d8f7aeb6-471a-4ec1-e963-c374364f5296"
      },
      "source": [
        "print(f\"initial loss: {init_loss}\")\n",
        "print(f\"initial accuracy: {init_acc}\")\n",
        "print(f\"initial precision: {init_prec}\")\n",
        "print(f\"initial recall: {init_recall}\")"
      ],
      "execution_count": 16,
      "outputs": [
        {
          "output_type": "stream",
          "text": [
            "initial loss: 0.6931471824645996\n",
            "initial accuracy: 0.4000000059604645\n",
            "initial precision: 0.0\n",
            "initial recall: 0.0\n"
          ],
          "name": "stdout"
        }
      ]
    },
    {
      "cell_type": "code",
      "metadata": {
        "colab": {
          "base_uri": "https://localhost:8080/"
        },
        "id": "nIxpP1iLQFJ5",
        "outputId": "8286b2c2-947c-4beb-8fde-4d995647b2ab"
      },
      "source": [
        "epochs = 30\n",
        "history = model.fit(train_ds,\n",
        "                    epochs=epochs,\n",
        "                    validation_data=test_ds)"
      ],
      "execution_count": 17,
      "outputs": [
        {
          "output_type": "stream",
          "text": [
            "Epoch 1/30\n",
            "30/30 [==============================] - 7s 161ms/step - loss: 0.3908 - accuracy: 0.8300 - precision: 0.8422 - recall: 0.9669 - val_loss: 0.6754 - val_accuracy: 0.6000 - val_precision: 0.6000 - val_recall: 1.0000\n",
            "Epoch 2/30\n",
            "30/30 [==============================] - 4s 146ms/step - loss: 0.2232 - accuracy: 0.9150 - precision: 0.9299 - recall: 0.9656 - val_loss: 0.6746 - val_accuracy: 0.6000 - val_precision: 0.6000 - val_recall: 1.0000\n",
            "Epoch 3/30\n",
            "30/30 [==============================] - 4s 145ms/step - loss: 0.1323 - accuracy: 0.9528 - precision: 0.9696 - recall: 0.9709 - val_loss: 0.7036 - val_accuracy: 0.6000 - val_precision: 0.6000 - val_recall: 1.0000\n",
            "Epoch 4/30\n",
            "30/30 [==============================] - 4s 147ms/step - loss: 0.0912 - accuracy: 0.9685 - precision: 0.9802 - recall: 0.9802 - val_loss: 0.7476 - val_accuracy: 0.6000 - val_precision: 0.6000 - val_recall: 1.0000\n",
            "Epoch 5/30\n",
            "30/30 [==============================] - 4s 146ms/step - loss: 0.0953 - accuracy: 0.9591 - precision: 0.9748 - recall: 0.9735 - val_loss: 0.7793 - val_accuracy: 0.6000 - val_precision: 0.6000 - val_recall: 1.0000\n",
            "Epoch 6/30\n",
            "30/30 [==============================] - 4s 146ms/step - loss: 0.0867 - accuracy: 0.9643 - precision: 0.9763 - recall: 0.9788 - val_loss: 0.8245 - val_accuracy: 0.6000 - val_precision: 0.6000 - val_recall: 1.0000\n",
            "Epoch 7/30\n",
            "30/30 [==============================] - 4s 145ms/step - loss: 0.0421 - accuracy: 0.9864 - precision: 0.9882 - recall: 0.9947 - val_loss: 0.8554 - val_accuracy: 0.6000 - val_precision: 0.6000 - val_recall: 1.0000\n",
            "Epoch 8/30\n",
            "30/30 [==============================] - 4s 145ms/step - loss: 0.0343 - accuracy: 0.9864 - precision: 0.9973 - recall: 0.9854 - val_loss: 0.9039 - val_accuracy: 0.6000 - val_precision: 0.6000 - val_recall: 1.0000\n",
            "Epoch 9/30\n",
            "30/30 [==============================] - 4s 146ms/step - loss: 0.0316 - accuracy: 0.9916 - precision: 0.9947 - recall: 0.9947 - val_loss: 0.8439 - val_accuracy: 0.6000 - val_precision: 0.6000 - val_recall: 1.0000\n",
            "Epoch 10/30\n",
            "30/30 [==============================] - 4s 145ms/step - loss: 0.0362 - accuracy: 0.9843 - precision: 0.9933 - recall: 0.9868 - val_loss: 0.8661 - val_accuracy: 0.6000 - val_precision: 0.6000 - val_recall: 1.0000\n",
            "Epoch 11/30\n",
            "30/30 [==============================] - 4s 147ms/step - loss: 0.0211 - accuracy: 0.9948 - precision: 0.9974 - recall: 0.9960 - val_loss: 0.7509 - val_accuracy: 0.6000 - val_precision: 0.6000 - val_recall: 1.0000\n",
            "Epoch 12/30\n",
            "30/30 [==============================] - 4s 145ms/step - loss: 0.0286 - accuracy: 0.9895 - precision: 0.9934 - recall: 0.9934 - val_loss: 0.6859 - val_accuracy: 0.6000 - val_precision: 0.6000 - val_recall: 1.0000\n",
            "Epoch 13/30\n",
            "30/30 [==============================] - 4s 145ms/step - loss: 0.0631 - accuracy: 0.9811 - precision: 0.9881 - recall: 0.9881 - val_loss: 0.6730 - val_accuracy: 0.6000 - val_precision: 0.6000 - val_recall: 1.0000\n",
            "Epoch 14/30\n",
            "30/30 [==============================] - 4s 147ms/step - loss: 0.0311 - accuracy: 0.9916 - precision: 0.9934 - recall: 0.9960 - val_loss: 0.7892 - val_accuracy: 0.4000 - val_precision: 0.0000e+00 - val_recall: 0.0000e+00\n",
            "Epoch 15/30\n",
            "30/30 [==============================] - 4s 142ms/step - loss: 0.0331 - accuracy: 0.9895 - precision: 0.9947 - recall: 0.9921 - val_loss: 0.9882 - val_accuracy: 0.4000 - val_precision: 0.0000e+00 - val_recall: 0.0000e+00\n",
            "Epoch 16/30\n",
            "30/30 [==============================] - 4s 143ms/step - loss: 0.0115 - accuracy: 0.9979 - precision: 0.9987 - recall: 0.9987 - val_loss: 1.4344 - val_accuracy: 0.4000 - val_precision: 0.0000e+00 - val_recall: 0.0000e+00\n",
            "Epoch 17/30\n",
            "30/30 [==============================] - 4s 146ms/step - loss: 0.0251 - accuracy: 0.9906 - precision: 0.9934 - recall: 0.9947 - val_loss: 1.8648 - val_accuracy: 0.4000 - val_precision: 0.0000e+00 - val_recall: 0.0000e+00\n",
            "Epoch 18/30\n",
            "30/30 [==============================] - 4s 144ms/step - loss: 0.0270 - accuracy: 0.9885 - precision: 0.9934 - recall: 0.9921 - val_loss: 2.0464 - val_accuracy: 0.4000 - val_precision: 0.0000e+00 - val_recall: 0.0000e+00\n",
            "Epoch 19/30\n",
            "30/30 [==============================] - 4s 144ms/step - loss: 0.0392 - accuracy: 0.9853 - precision: 0.9907 - recall: 0.9907 - val_loss: 3.2876 - val_accuracy: 0.4000 - val_precision: 0.0000e+00 - val_recall: 0.0000e+00\n",
            "Epoch 20/30\n",
            "30/30 [==============================] - 4s 143ms/step - loss: 0.0132 - accuracy: 0.9958 - precision: 0.9987 - recall: 0.9960 - val_loss: 4.1394 - val_accuracy: 0.4000 - val_precision: 0.0000e+00 - val_recall: 0.0000e+00\n",
            "Epoch 21/30\n",
            "30/30 [==============================] - 4s 146ms/step - loss: 0.0165 - accuracy: 0.9927 - precision: 0.9973 - recall: 0.9934 - val_loss: 4.4962 - val_accuracy: 0.4000 - val_precision: 0.0000e+00 - val_recall: 0.0000e+00\n",
            "Epoch 22/30\n",
            "30/30 [==============================] - 4s 146ms/step - loss: 0.0352 - accuracy: 0.9885 - precision: 0.9921 - recall: 0.9934 - val_loss: 4.5023 - val_accuracy: 0.4000 - val_precision: 0.0000e+00 - val_recall: 0.0000e+00\n",
            "Epoch 23/30\n",
            "30/30 [==============================] - 4s 147ms/step - loss: 0.0207 - accuracy: 0.9937 - precision: 0.9973 - recall: 0.9947 - val_loss: 4.5444 - val_accuracy: 0.4000 - val_precision: 0.0000e+00 - val_recall: 0.0000e+00\n",
            "Epoch 24/30\n",
            "30/30 [==============================] - 4s 145ms/step - loss: 0.0161 - accuracy: 0.9937 - precision: 0.9973 - recall: 0.9947 - val_loss: 4.6432 - val_accuracy: 0.4000 - val_precision: 0.0000e+00 - val_recall: 0.0000e+00\n",
            "Epoch 25/30\n",
            "30/30 [==============================] - 4s 145ms/step - loss: 0.0055 - accuracy: 1.0000 - precision: 1.0000 - recall: 1.0000 - val_loss: 5.5055 - val_accuracy: 0.4000 - val_precision: 0.0000e+00 - val_recall: 0.0000e+00\n",
            "Epoch 26/30\n",
            "30/30 [==============================] - 4s 148ms/step - loss: 0.0134 - accuracy: 0.9969 - precision: 0.9974 - recall: 0.9987 - val_loss: 5.0511 - val_accuracy: 0.4100 - val_precision: 1.0000 - val_recall: 0.0167\n",
            "Epoch 27/30\n",
            "30/30 [==============================] - 4s 146ms/step - loss: 0.0099 - accuracy: 0.9979 - precision: 0.9987 - recall: 0.9987 - val_loss: 5.1599 - val_accuracy: 0.4000 - val_precision: 0.0000e+00 - val_recall: 0.0000e+00\n",
            "Epoch 28/30\n",
            "30/30 [==============================] - 4s 145ms/step - loss: 0.0074 - accuracy: 0.9969 - precision: 0.9987 - recall: 0.9974 - val_loss: 3.9743 - val_accuracy: 0.4000 - val_precision: 0.0000e+00 - val_recall: 0.0000e+00\n",
            "Epoch 29/30\n",
            "30/30 [==============================] - 4s 143ms/step - loss: 0.0074 - accuracy: 0.9990 - precision: 1.0000 - recall: 0.9987 - val_loss: 2.4747 - val_accuracy: 0.5100 - val_precision: 0.9231 - val_recall: 0.2000\n",
            "Epoch 30/30\n",
            "30/30 [==============================] - 4s 147ms/step - loss: 0.0110 - accuracy: 0.9958 - precision: 0.9987 - recall: 0.9960 - val_loss: 2.0041 - val_accuracy: 0.5300 - val_precision: 0.9333 - val_recall: 0.2333\n"
          ],
          "name": "stdout"
        }
      ]
    },
    {
      "cell_type": "code",
      "metadata": {
        "colab": {
          "base_uri": "https://localhost:8080/",
          "height": 513
        },
        "id": "fWaGbRInQhY7",
        "outputId": "a49cf8c3-c269-4006-8550-7c2d4f578a51"
      },
      "source": [
        "import matplotlib.pyplot as plt\n",
        "\n",
        "acc = history.history['accuracy']\n",
        "val_acc = history.history['val_accuracy']\n",
        "\n",
        "loss = history.history['loss']\n",
        "val_loss = history.history['val_loss']\n",
        "\n",
        "plt.figure(figsize=(8, 8))\n",
        "plt.subplot(2, 1, 1)\n",
        "plt.plot(acc, label='Training Accuracy')\n",
        "plt.plot(val_acc, label='Validation Accuracy')\n",
        "plt.legend(loc='lower right')\n",
        "plt.ylabel('Accuracy')\n",
        "plt.title('Training and Validation Accuracy')\n",
        "\n",
        "plt.subplot(2, 1, 2)\n",
        "plt.plot(loss, label='Training Loss')\n",
        "plt.plot(val_loss, label='Validation Loss')\n",
        "plt.legend(loc='upper right')\n",
        "plt.ylabel('Cross Entropy')\n",
        "plt.title('Training and Validation Loss')\n",
        "plt.xlabel('epoch')\n",
        "plt.show()"
      ],
      "execution_count": 18,
      "outputs": [
        {
          "output_type": "display_data",
          "data": {
            "image/png": "[encoded data removed]",
            "text/plain": [
              "<Figure size 576x576 with 2 Axes>"
            ]
          },
          "metadata": {
            "tags": [],
            "needs_background": "light"
          }
        }
      ]
    },
    {
      "cell_type": "code",
      "metadata": {
        "colab": {
          "base_uri": "https://localhost:8080/",
          "height": 513
        },
        "id": "s8q32wyfQlb8",
        "outputId": "61314ddd-af70-4c72-b05e-b6654a856263"
      },
      "source": [
        "precision = history.history['precision']\n",
        "val_precision = history.history['val_precision']\n",
        "\n",
        "recall = history.history['recall']\n",
        "val_recall = history.history['val_recall']\n",
        "\n",
        "plt.figure(figsize=(8, 8))\n",
        "plt.subplot(2, 1, 1)\n",
        "plt.plot(precision, label='Training Precision')\n",
        "plt.plot(val_precision, label='Validation Precision')\n",
        "plt.legend(loc='lower right')\n",
        "plt.ylabel('Precision')\n",
        "plt.title('Training and Validation Precision')\n",
        "\n",
        "plt.subplot(2, 1, 2)\n",
        "plt.plot(recall, label='Training Recall')\n",
        "plt.plot(val_recall, label='Validation Recall')\n",
        "plt.legend(loc='upper right')\n",
        "plt.ylabel('Recall')\n",
        "plt.title('Training and Validation Recall')\n",
        "plt.xlabel('epoch')\n",
        "plt.show()"
      ],
      "execution_count": 19,
      "outputs": [
        {
          "output_type": "display_data",
          "data": {
            "image/png": "[encoded data removed]",
            "text/plain": [
              "<Figure size 576x576 with 2 Axes>"
            ]
          },
          "metadata": {
            "tags": [],
            "needs_background": "light"
          }
        }
      ]
    },
    {
      "cell_type": "code",
      "metadata": {
        "id": "GlzX0__TYUdl",
        "colab": {
          "base_uri": "https://localhost:8080/"
        },
        "outputId": "5b22009d-b743-4f48-e686-1845c342d977"
      },
      "source": [
        "pred = model.predict(test_ds.take(1))\n",
        "print(pred)"
      ],
      "execution_count": 20,
      "outputs": [
        {
          "output_type": "stream",
          "text": [
            "[[6.18051272e-03]\n",
            " [9.71075147e-02]\n",
            " [7.74318492e-03]\n",
            " [2.62029022e-02]\n",
            " [2.59748916e-03]\n",
            " [5.51767414e-03]\n",
            " [1.43925529e-02]\n",
            " [9.20255840e-01]\n",
            " [6.14664692e-04]\n",
            " [2.92832375e-01]\n",
            " [1.45287752e-01]\n",
            " [2.10114362e-04]\n",
            " [6.44532859e-01]\n",
            " [1.42100861e-03]\n",
            " [2.62894697e-04]\n",
            " [6.18417382e-01]\n",
            " [5.21960780e-02]\n",
            " [7.94484317e-02]\n",
            " [9.57351863e-01]\n",
            " [1.76911207e-03]\n",
            " [1.08517356e-01]\n",
            " [5.12416149e-03]\n",
            " [3.91196273e-03]\n",
            " [7.71109998e-01]\n",
            " [1.79089511e-05]\n",
            " [2.70790339e-01]\n",
            " [1.37088656e-01]\n",
            " [4.36435863e-02]\n",
            " [2.20396934e-04]\n",
            " [3.06256494e-04]\n",
            " [1.78786693e-03]\n",
            " [8.62184912e-02]]\n"
          ],
          "name": "stdout"
        }
      ]
    },
    {
      "cell_type": "code",
      "metadata": {
        "id": "HxeH6lvVeeXs"
      },
      "source": [
        ""
      ],
      "execution_count": null,
      "outputs": []
    }
  ]
}