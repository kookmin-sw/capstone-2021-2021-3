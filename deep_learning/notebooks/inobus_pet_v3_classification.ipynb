{
  "nbformat": 4,
  "nbformat_minor": 0,
  "metadata": {
    "colab": {
      "name": "inobus_pet_v3_classification.ipynb",
      "provenance": []
    },
    "kernelspec": {
      "name": "python3",
      "display_name": "Python 3"
    },
    "accelerator": "GPU"
  },
  "cells": [
    {
      "cell_type": "code",
      "metadata": {
        "id": "Th1dwYBOocQC"
      },
      "source": [
        "from google.colab import auth\n",
        "auth.authenticate_user()"
      ],
      "execution_count": 1,
      "outputs": []
    },
    {
      "cell_type": "code",
      "metadata": {
        "id": "PwZeId9PoiUY",
        "colab": {
          "base_uri": "https://localhost:8080/"
        },
        "outputId": "8e3c997b-83fe-407b-f860-3c1e8bd9d235"
      },
      "source": [
        "!pip install -q tfds-nightly\n",
        "import tensorflow_datasets as tfds\n",
        "ds, info = tfds.load('inobus_pet_v3', with_info=True, data_dir='gs://pet_dataset/inobus_pet_v3')"
      ],
      "execution_count": 2,
      "outputs": [
        {
          "output_type": "stream",
          "text": [
            "\u001b[K     |████████████████████████████████| 3.8MB 16.4MB/s \n",
            "\u001b[?25h"
          ],
          "name": "stdout"
        }
      ]
    },
    {
      "cell_type": "code",
      "metadata": {
        "id": "RUv5smYRz3v1"
      },
      "source": [
        "train_ds, test_ds = ds['train'], ds['test']"
      ],
      "execution_count": 16,
      "outputs": []
    },
    {
      "cell_type": "code",
      "metadata": {
        "id": "4cokllXy-hsN"
      },
      "source": [
        "import tensorflow as tf\n",
        "\n",
        "@tf.function\n",
        "def load_image_label(datapoint):\n",
        "  img = datapoint['image']\n",
        "  label = datapoint['label']\n",
        "\n",
        "  return img, label "
      ],
      "execution_count": 17,
      "outputs": []
    },
    {
      "cell_type": "code",
      "metadata": {
        "id": "iCHl0bQy-iwH"
      },
      "source": [
        "train_ds = train_ds.map(load_image_label)\n",
        "test_ds = test_ds.map(load_image_label)"
      ],
      "execution_count": 18,
      "outputs": []
    },
    {
      "cell_type": "code",
      "metadata": {
        "id": "V_6ZoXBXrg-G"
      },
      "source": [
        "batch_size = 32\n",
        "buffer_size = 1000\n",
        "\n",
        "train_ds = train_ds.cache().shuffle(buffer_size).batch(batch_size)\n",
        "train_ds = train_ds.prefetch(buffer_size=tf.data.AUTOTUNE)\n",
        "test_ds = test_ds.cache().batch(batch_size)\n",
        "test_ds = test_ds.prefetch(buffer_size=tf.data.AUTOTUNE)"
      ],
      "execution_count": 19,
      "outputs": []
    },
    {
      "cell_type": "code",
      "metadata": {
        "id": "GaWcbudI_eRy"
      },
      "source": [
        "img_shape = (224, 224, 3) \n",
        "mobilenet = tf.keras.applications.MobileNet(\n",
        "    input_shape=img_shape,\n",
        "    include_top=False,\n",
        "    weights=None\n",
        ")"
      ],
      "execution_count": 20,
      "outputs": []
    },
    {
      "cell_type": "code",
      "metadata": {
        "id": "Y0776SuIAUno"
      },
      "source": [
        "global_average_layer = tf.keras.layers.GlobalAveragePooling2D()"
      ],
      "execution_count": 21,
      "outputs": []
    },
    {
      "cell_type": "code",
      "metadata": {
        "id": "RgtFb1UBAZOr"
      },
      "source": [
        "prediction_layer = tf.keras.layers.Dense(1, activation='sigmoid')"
      ],
      "execution_count": 22,
      "outputs": []
    },
    {
      "cell_type": "code",
      "metadata": {
        "id": "j8dTvpnLCaY0"
      },
      "source": [
        "def get_model():\n",
        "  inputs = tf.keras.Input(shape=(224, 224, 3))\n",
        "  x = mobilenet(inputs)\n",
        "  x = global_average_layer(x)\n",
        "  outputs = prediction_layer(x)\n",
        "  \n",
        "  return tf.keras.Model(inputs, outputs)"
      ],
      "execution_count": 23,
      "outputs": []
    },
    {
      "cell_type": "code",
      "metadata": {
        "id": "uadRGsx2Nmb4"
      },
      "source": [
        "model = get_model()\n",
        "lr = 3e-4\n",
        "model.compile(optimizer=tf.keras.optimizers.Adam(lr=lr),\n",
        "              loss=tf.keras.losses.BinaryCrossentropy(from_logits=False),\n",
        "              metrics=['accuracy', tf.keras.metrics.Precision(name='precision'), tf.keras.metrics.Recall(name='recall')])"
      ],
      "execution_count": 24,
      "outputs": []
    },
    {
      "cell_type": "code",
      "metadata": {
        "colab": {
          "base_uri": "https://localhost:8080/"
        },
        "id": "3qtC0AHrOLEE",
        "outputId": "f77b6819-4fa9-4bac-c040-5477c860b068"
      },
      "source": [
        "len(model.trainable_variables)"
      ],
      "execution_count": 25,
      "outputs": [
        {
          "output_type": "execute_result",
          "data": {
            "text/plain": [
              "83"
            ]
          },
          "metadata": {
            "tags": []
          },
          "execution_count": 25
        }
      ]
    },
    {
      "cell_type": "code",
      "metadata": {
        "colab": {
          "base_uri": "https://localhost:8080/"
        },
        "id": "M653rqd6OPV8",
        "outputId": "ac90fc58-013c-4403-c7db-00d3741463b1"
      },
      "source": [
        "init_loss, init_acc, init_prec, init_recall = model.evaluate(test_ds)"
      ],
      "execution_count": 26,
      "outputs": [
        {
          "output_type": "stream",
          "text": [
            "8/8 [==============================] - 1s 23ms/step - loss: 0.6931 - accuracy: 0.3260 - precision: 0.0000e+00 - recall: 0.0000e+00\n"
          ],
          "name": "stdout"
        }
      ]
    },
    {
      "cell_type": "code",
      "metadata": {
        "colab": {
          "base_uri": "https://localhost:8080/"
        },
        "id": "AYEayLjTOdCN",
        "outputId": "61dd5a27-5013-4214-dc54-a6b75c2de612"
      },
      "source": [
        "print(f\"initial loss: {init_loss}\")\n",
        "print(f\"initial accuracy: {init_acc}\")\n",
        "print(f\"initial precision: {init_prec}\")\n",
        "print(f\"initial recall: {init_recall}\")"
      ],
      "execution_count": 27,
      "outputs": [
        {
          "output_type": "stream",
          "text": [
            "initial loss: 0.6931471228599548\n",
            "initial accuracy: 0.3333333432674408\n",
            "initial precision: 0.0\n",
            "initial recall: 0.0\n"
          ],
          "name": "stdout"
        }
      ]
    },
    {
      "cell_type": "code",
      "metadata": {
        "colab": {
          "base_uri": "https://localhost:8080/"
        },
        "id": "nIxpP1iLQFJ5",
        "outputId": "8a7692f4-5efd-4562-95cf-37e29e902ed4"
      },
      "source": [
        "epochs = 20\n",
        "history = model.fit(train_ds,\n",
        "                    epochs=epochs,\n",
        "                    validation_data=test_ds)"
      ],
      "execution_count": 28,
      "outputs": [
        {
          "output_type": "stream",
          "text": [
            "Epoch 1/20\n",
            "30/30 [==============================] - 7s 148ms/step - loss: 0.4227 - accuracy: 0.8017 - precision: 0.8504 - recall: 0.9101 - val_loss: 0.6835 - val_accuracy: 0.6667 - val_precision: 0.6667 - val_recall: 1.0000\n",
            "Epoch 2/20\n",
            "30/30 [==============================] - 4s 147ms/step - loss: 0.2677 - accuracy: 0.8867 - precision: 0.9165 - recall: 0.9431 - val_loss: 0.7011 - val_accuracy: 0.3333 - val_precision: 0.0000e+00 - val_recall: 0.0000e+00\n",
            "Epoch 3/20\n",
            "30/30 [==============================] - 4s 146ms/step - loss: 0.1696 - accuracy: 0.9360 - precision: 0.9627 - recall: 0.9563 - val_loss: 0.7264 - val_accuracy: 0.3333 - val_precision: 0.0000e+00 - val_recall: 0.0000e+00\n",
            "Epoch 4/20\n",
            "30/30 [==============================] - 4s 148ms/step - loss: 0.1250 - accuracy: 0.9549 - precision: 0.9697 - recall: 0.9735 - val_loss: 0.7664 - val_accuracy: 0.3333 - val_precision: 0.0000e+00 - val_recall: 0.0000e+00\n",
            "Epoch 5/20\n",
            "30/30 [==============================] - 4s 148ms/step - loss: 0.0846 - accuracy: 0.9706 - precision: 0.9828 - recall: 0.9802 - val_loss: 0.8077 - val_accuracy: 0.3333 - val_precision: 0.0000e+00 - val_recall: 0.0000e+00\n",
            "Epoch 6/20\n",
            "30/30 [==============================] - 5s 151ms/step - loss: 0.0871 - accuracy: 0.9706 - precision: 0.9802 - recall: 0.9828 - val_loss: 0.8948 - val_accuracy: 0.3333 - val_precision: 0.0000e+00 - val_recall: 0.0000e+00\n",
            "Epoch 7/20\n",
            "30/30 [==============================] - 5s 150ms/step - loss: 0.0467 - accuracy: 0.9853 - precision: 0.9920 - recall: 0.9894 - val_loss: 0.9615 - val_accuracy: 0.3333 - val_precision: 0.0000e+00 - val_recall: 0.0000e+00\n",
            "Epoch 8/20\n",
            "30/30 [==============================] - 4s 146ms/step - loss: 0.0294 - accuracy: 0.9916 - precision: 0.9934 - recall: 0.9960 - val_loss: 1.1844 - val_accuracy: 0.3333 - val_precision: 0.0000e+00 - val_recall: 0.0000e+00\n",
            "Epoch 9/20\n",
            "30/30 [==============================] - 4s 148ms/step - loss: 0.0239 - accuracy: 0.9937 - precision: 0.9947 - recall: 0.9974 - val_loss: 1.3931 - val_accuracy: 0.3333 - val_precision: 0.0000e+00 - val_recall: 0.0000e+00\n",
            "Epoch 10/20\n",
            "30/30 [==============================] - 5s 151ms/step - loss: 0.0444 - accuracy: 0.9832 - precision: 0.9933 - recall: 0.9854 - val_loss: 1.5108 - val_accuracy: 0.3333 - val_precision: 0.0000e+00 - val_recall: 0.0000e+00\n",
            "Epoch 11/20\n",
            "30/30 [==============================] - 4s 147ms/step - loss: 0.1049 - accuracy: 0.9675 - precision: 0.9789 - recall: 0.9802 - val_loss: 1.6678 - val_accuracy: 0.3333 - val_precision: 0.0000e+00 - val_recall: 0.0000e+00\n",
            "Epoch 12/20\n",
            "30/30 [==============================] - 4s 148ms/step - loss: 0.0237 - accuracy: 0.9937 - precision: 0.9934 - recall: 0.9987 - val_loss: 2.4349 - val_accuracy: 0.3333 - val_precision: 0.0000e+00 - val_recall: 0.0000e+00\n",
            "Epoch 13/20\n",
            "30/30 [==============================] - 5s 151ms/step - loss: 0.0230 - accuracy: 0.9948 - precision: 0.9960 - recall: 0.9974 - val_loss: 3.1144 - val_accuracy: 0.3333 - val_precision: 0.0000e+00 - val_recall: 0.0000e+00\n",
            "Epoch 14/20\n",
            "30/30 [==============================] - 4s 147ms/step - loss: 0.0210 - accuracy: 0.9927 - precision: 0.9960 - recall: 0.9947 - val_loss: 3.7051 - val_accuracy: 0.3333 - val_precision: 0.0000e+00 - val_recall: 0.0000e+00\n",
            "Epoch 15/20\n",
            "30/30 [==============================] - 4s 149ms/step - loss: 0.0152 - accuracy: 0.9948 - precision: 0.9960 - recall: 0.9974 - val_loss: 4.4337 - val_accuracy: 0.3333 - val_precision: 0.0000e+00 - val_recall: 0.0000e+00\n",
            "Epoch 16/20\n",
            "30/30 [==============================] - 4s 147ms/step - loss: 0.0037 - accuracy: 1.0000 - precision: 1.0000 - recall: 1.0000 - val_loss: 5.4377 - val_accuracy: 0.3333 - val_precision: 0.0000e+00 - val_recall: 0.0000e+00\n",
            "Epoch 17/20\n",
            "30/30 [==============================] - 4s 148ms/step - loss: 0.0035 - accuracy: 1.0000 - precision: 1.0000 - recall: 1.0000 - val_loss: 6.1856 - val_accuracy: 0.3333 - val_precision: 0.0000e+00 - val_recall: 0.0000e+00\n",
            "Epoch 18/20\n",
            "30/30 [==============================] - 4s 148ms/step - loss: 0.0046 - accuracy: 1.0000 - precision: 1.0000 - recall: 1.0000 - val_loss: 7.0437 - val_accuracy: 0.3333 - val_precision: 0.0000e+00 - val_recall: 0.0000e+00\n",
            "Epoch 19/20\n",
            "30/30 [==============================] - 4s 146ms/step - loss: 0.0035 - accuracy: 1.0000 - precision: 1.0000 - recall: 1.0000 - val_loss: 7.2478 - val_accuracy: 0.3333 - val_precision: 0.0000e+00 - val_recall: 0.0000e+00\n",
            "Epoch 20/20\n",
            "30/30 [==============================] - 4s 148ms/step - loss: 0.0071 - accuracy: 0.9969 - precision: 0.9960 - recall: 1.0000 - val_loss: 7.8066 - val_accuracy: 0.3333 - val_precision: 0.0000e+00 - val_recall: 0.0000e+00\n"
          ],
          "name": "stdout"
        }
      ]
    },
    {
      "cell_type": "code",
      "metadata": {
        "colab": {
          "base_uri": "https://localhost:8080/",
          "height": 513
        },
        "id": "fWaGbRInQhY7",
        "outputId": "709324ae-8a70-4c0e-d4ab-f222f6b88a84"
      },
      "source": [
        "import matplotlib.pyplot as plt\n",
        "\n",
        "acc = history.history['accuracy']\n",
        "val_acc = history.history['val_accuracy']\n",
        "\n",
        "loss = history.history['loss']\n",
        "val_loss = history.history['val_loss']\n",
        "\n",
        "plt.figure(figsize=(8, 8))\n",
        "plt.subplot(2, 1, 1)\n",
        "plt.plot(acc, label='Training Accuracy')\n",
        "plt.plot(val_acc, label='Validation Accuracy')\n",
        "plt.legend(loc='lower right')\n",
        "plt.ylabel('Accuracy')\n",
        "plt.title('Training and Validation Accuracy')\n",
        "\n",
        "plt.subplot(2, 1, 2)\n",
        "plt.plot(loss, label='Training Loss')\n",
        "plt.plot(val_loss, label='Validation Loss')\n",
        "plt.legend(loc='upper right')\n",
        "plt.ylabel('Cross Entropy')\n",
        "plt.title('Training and Validation Loss')\n",
        "plt.xlabel('epoch')\n",
        "plt.show()"
      ],
      "execution_count": 29,
      "outputs": [
        {
          "output_type": "display_data",
          "data": {
            "image/png": "[encoded data removed]",
            "text/plain": [
              "<Figure size 576x576 with 2 Axes>"
            ]
          },
          "metadata": {
            "tags": [],
            "needs_background": "light"
          }
        }
      ]
    },
    {
      "cell_type": "code",
      "metadata": {
        "colab": {
          "base_uri": "https://localhost:8080/",
          "height": 513
        },
        "id": "s8q32wyfQlb8",
        "outputId": "ec208145-c006-43dd-c590-d211a43f59a4"
      },
      "source": [
        "precision = history.history['precision']\n",
        "val_precision = history.history['val_precision']\n",
        "\n",
        "recall = history.history['recall']\n",
        "val_recall = history.history['val_recall']\n",
        "\n",
        "plt.figure(figsize=(8, 8))\n",
        "plt.subplot(2, 1, 1)\n",
        "plt.plot(precision, label='Training Precision')\n",
        "plt.plot(val_precision, label='Validation Precision')\n",
        "plt.legend(loc='lower right')\n",
        "plt.ylabel('Precision')\n",
        "plt.title('Training and Validation Precision')\n",
        "\n",
        "plt.subplot(2, 1, 2)\n",
        "plt.plot(recall, label='Training Recall')\n",
        "plt.plot(val_recall, label='Validation Recall')\n",
        "plt.legend(loc='upper right')\n",
        "plt.ylabel('Recall')\n",
        "plt.title('Training and Validation Recall')\n",
        "plt.xlabel('epoch')\n",
        "plt.show()"
      ],
      "execution_count": 30,
      "outputs": [
        {
          "output_type": "display_data",
          "data": {
            "image/png": "[encoded data removed]",
            "text/plain": [
              "<Figure size 576x576 with 2 Axes>"
            ]
          },
          "metadata": {
            "tags": [],
            "needs_background": "light"
          }
        }
      ]
    }
  ]
}